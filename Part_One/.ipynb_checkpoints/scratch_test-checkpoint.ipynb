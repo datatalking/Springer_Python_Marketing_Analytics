{
 "cells": [
  {
   "cell_type": "code",
   "execution_count": 2,
   "metadata": {},
   "outputs": [
    {
     "name": "stdout",
     "output_type": "stream",
     "text": [
      "Requirement already satisfied: networkx in /Users/wadewilson/PycharmProjects/Springer_Python_Marketing_Analytics/venv/lib/python3.8/site-packages (2.6.3)\n",
      "\u001b[33mWARNING: You are using pip version 21.1.2; however, version 21.3.1 is available.\n",
      "You should consider upgrading via the '/Users/wadewilson/PycharmProjects/Springer_Python_Marketing_Analytics/venv/bin/python -m pip install --upgrade pip' command.\u001b[0m\n",
      "Nodes of graph: \n",
      "['a']\n",
      "Edges of graph: \n",
      "[]\n"
     ]
    }
   ],
   "source": [
    "!pip3 install networkx\n",
    "\n",
    "import networkx as nx\n",
    "\n",
    "G=nx.Graph()\n",
    "\n",
    "# adding just one node:\n",
    "G.add_node(\"a\")\n",
    "\n",
    "# a list of nodes:\n",
    "G.add_node(\"a\")\n",
    "\n",
    "print(\"Nodes of graph: \")\n",
    "print(G.nodes())\n",
    "\n",
    "print(\"Edges of graph: \")\n",
    "print(G.edges())"
   ]
  }
 ],
 "metadata": {
  "kernelspec": {
   "display_name": "Python 3 (ipykernel)",
   "language": "python",
   "name": "python3"
  },
  "language_info": {
   "codemirror_mode": {
    "name": "ipython",
    "version": 3
   },
   "file_extension": ".py",
   "mimetype": "text/x-python",
   "name": "python",
   "nbconvert_exporter": "python",
   "pygments_lexer": "ipython3",
   "version": "3.8.2"
  }
 },
 "nbformat": 4,
 "nbformat_minor": 1
}
