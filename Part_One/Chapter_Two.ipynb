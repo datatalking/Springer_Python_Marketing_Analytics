{
 "cells": [
  {
   "cell_type": "code",
   "execution_count": 1,
   "metadata": {
    "collapsed": true
   },
   "outputs": [
    {
     "name": "stdout",
     "output_type": "stream",
     "text": [
      "Collecting pandas\r\n",
      "  Using cached pandas-1.3.4-cp39-cp39-macosx_10_9_x86_64.whl (11.6 MB)\r\n",
      "Collecting numpy>=1.17.3\r\n",
      "  Downloading numpy-1.21.3-cp39-cp39-macosx_10_9_x86_64.whl (17.0 MB)\r\n",
      "     |████████████████████████████████| 17.0 MB 3.8 MB/s            \r\n",
      "\u001B[?25hRequirement already satisfied: python-dateutil>=2.7.3 in /Users/vanessawilson/sbox/test/Springer_Python_Marketing_Analytics/lib/python3.9/site-packages (from pandas) (2.8.2)\r\n",
      "Collecting pytz>=2017.3\r\n",
      "  Using cached pytz-2021.3-py2.py3-none-any.whl (503 kB)\r\n",
      "Requirement already satisfied: six>=1.5 in /Users/vanessawilson/sbox/test/Springer_Python_Marketing_Analytics/lib/python3.9/site-packages (from python-dateutil>=2.7.3->pandas) (1.16.0)\r\n",
      "Installing collected packages: pytz, numpy, pandas\r\n",
      "Successfully installed numpy-1.21.3 pandas-1.3.4 pytz-2021.3\r\n"
     ]
    },
    {
     "data": {
      "text/plain": "   iProdSAT  iSalesSAT Segment  iProdREC  iSalesREC\n0         6          2       1         4          3\n1         4          5       3         4          4\n2         5          3       4         5          4\n3         3          3       2         4          4\n4         3          3       3         2          2",
      "text/html": "<div>\n<style scoped>\n    .dataframe tbody tr th:only-of-type {\n        vertical-align: middle;\n    }\n\n    .dataframe tbody tr th {\n        vertical-align: top;\n    }\n\n    .dataframe thead th {\n        text-align: right;\n    }\n</style>\n<table border=\"1\" class=\"dataframe\">\n  <thead>\n    <tr style=\"text-align: right;\">\n      <th></th>\n      <th>iProdSAT</th>\n      <th>iSalesSAT</th>\n      <th>Segment</th>\n      <th>iProdREC</th>\n      <th>iSalesREC</th>\n    </tr>\n  </thead>\n  <tbody>\n    <tr>\n      <th>0</th>\n      <td>6</td>\n      <td>2</td>\n      <td>1</td>\n      <td>4</td>\n      <td>3</td>\n    </tr>\n    <tr>\n      <th>1</th>\n      <td>4</td>\n      <td>5</td>\n      <td>3</td>\n      <td>4</td>\n      <td>4</td>\n    </tr>\n    <tr>\n      <th>2</th>\n      <td>5</td>\n      <td>3</td>\n      <td>4</td>\n      <td>5</td>\n      <td>4</td>\n    </tr>\n    <tr>\n      <th>3</th>\n      <td>3</td>\n      <td>3</td>\n      <td>2</td>\n      <td>4</td>\n      <td>4</td>\n    </tr>\n    <tr>\n      <th>4</th>\n      <td>3</td>\n      <td>3</td>\n      <td>3</td>\n      <td>2</td>\n      <td>2</td>\n    </tr>\n  </tbody>\n</table>\n</div>"
     },
     "execution_count": 1,
     "metadata": {},
     "output_type": "execute_result"
    }
   ],
   "source": [
    "!pip3 install pandas\n",
    "\n",
    "import pandas as pd\n",
    "sat_df = pd.read_csv('http://bit.ly/PMR-ch2')\n",
    "sat_df.Segment = sat_df.Segment.astype(pd.api.types.CategoricalDtype())\n",
    "\n",
    "sat_df.head()"
   ]
  },
  {
   "cell_type": "code",
   "execution_count": 2,
   "outputs": [
    {
     "data": {
      "text/plain": "         iProdSAT   iSalesSAT    iProdREC   iSalesREC\ncount  500.000000  500.000000  500.000000  500.000000\nmean     4.130000    3.802000    4.044000    3.444000\nstd      1.091551    1.159951    1.299786    1.205724\nmin      1.000000    1.000000    1.000000    1.000000\n25%      3.000000    3.000000    3.000000    3.000000\n50%      4.000000    4.000000    4.000000    3.000000\n75%      5.000000    5.000000    5.000000    4.000000\nmax      7.000000    7.000000    7.000000    7.000000",
      "text/html": "<div>\n<style scoped>\n    .dataframe tbody tr th:only-of-type {\n        vertical-align: middle;\n    }\n\n    .dataframe tbody tr th {\n        vertical-align: top;\n    }\n\n    .dataframe thead th {\n        text-align: right;\n    }\n</style>\n<table border=\"1\" class=\"dataframe\">\n  <thead>\n    <tr style=\"text-align: right;\">\n      <th></th>\n      <th>iProdSAT</th>\n      <th>iSalesSAT</th>\n      <th>iProdREC</th>\n      <th>iSalesREC</th>\n    </tr>\n  </thead>\n  <tbody>\n    <tr>\n      <th>count</th>\n      <td>500.000000</td>\n      <td>500.000000</td>\n      <td>500.000000</td>\n      <td>500.000000</td>\n    </tr>\n    <tr>\n      <th>mean</th>\n      <td>4.130000</td>\n      <td>3.802000</td>\n      <td>4.044000</td>\n      <td>3.444000</td>\n    </tr>\n    <tr>\n      <th>std</th>\n      <td>1.091551</td>\n      <td>1.159951</td>\n      <td>1.299786</td>\n      <td>1.205724</td>\n    </tr>\n    <tr>\n      <th>min</th>\n      <td>1.000000</td>\n      <td>1.000000</td>\n      <td>1.000000</td>\n      <td>1.000000</td>\n    </tr>\n    <tr>\n      <th>25%</th>\n      <td>3.000000</td>\n      <td>3.000000</td>\n      <td>3.000000</td>\n      <td>3.000000</td>\n    </tr>\n    <tr>\n      <th>50%</th>\n      <td>4.000000</td>\n      <td>4.000000</td>\n      <td>4.000000</td>\n      <td>3.000000</td>\n    </tr>\n    <tr>\n      <th>75%</th>\n      <td>5.000000</td>\n      <td>5.000000</td>\n      <td>5.000000</td>\n      <td>4.000000</td>\n    </tr>\n    <tr>\n      <th>max</th>\n      <td>7.000000</td>\n      <td>7.000000</td>\n      <td>7.000000</td>\n      <td>7.000000</td>\n    </tr>\n  </tbody>\n</table>\n</div>"
     },
     "execution_count": 2,
     "metadata": {},
     "output_type": "execute_result"
    }
   ],
   "source": [
    "sat_df.describe()"
   ],
   "metadata": {
    "collapsed": false,
    "pycharm": {
     "name": "#%%\n"
    }
   }
  },
  {
   "cell_type": "code",
   "execution_count": 3,
   "outputs": [
    {
     "name": "stdout",
     "output_type": "stream",
     "text": [
      "Collecting seaborn\r\n",
      "  Using cached seaborn-0.11.2-py3-none-any.whl (292 kB)\r\n",
      "Requirement already satisfied: pandas>=0.23 in /Users/vanessawilson/sbox/test/Springer_Python_Marketing_Analytics/lib/python3.9/site-packages (from seaborn) (1.3.4)\r\n",
      "Collecting matplotlib>=2.2\r\n",
      "  Using cached matplotlib-3.4.3-cp39-cp39-macosx_10_9_x86_64.whl (7.2 MB)\r\n",
      "Collecting scipy>=1.0\r\n",
      "  Using cached scipy-1.7.1-cp39-cp39-macosx_10_9_x86_64.whl (32.8 MB)\r\n",
      "Requirement already satisfied: numpy>=1.15 in /Users/vanessawilson/sbox/test/Springer_Python_Marketing_Analytics/lib/python3.9/site-packages (from seaborn) (1.21.3)\r\n",
      "Requirement already satisfied: pyparsing>=2.2.1 in /Users/vanessawilson/sbox/test/Springer_Python_Marketing_Analytics/lib/python3.9/site-packages (from matplotlib>=2.2->seaborn) (3.0.3)\r\n",
      "Requirement already satisfied: python-dateutil>=2.7 in /Users/vanessawilson/sbox/test/Springer_Python_Marketing_Analytics/lib/python3.9/site-packages (from matplotlib>=2.2->seaborn) (2.8.2)\r\n",
      "Collecting cycler>=0.10\r\n",
      "  Using cached cycler-0.10.0-py2.py3-none-any.whl (6.5 kB)\r\n",
      "Collecting pillow>=6.2.0\r\n",
      "  Using cached Pillow-8.4.0-cp39-cp39-macosx_10_10_x86_64.whl (3.0 MB)\r\n",
      "Collecting kiwisolver>=1.0.1\r\n",
      "  Using cached kiwisolver-1.3.2-cp39-cp39-macosx_10_9_x86_64.whl (61 kB)\r\n",
      "Requirement already satisfied: pytz>=2017.3 in /Users/vanessawilson/sbox/test/Springer_Python_Marketing_Analytics/lib/python3.9/site-packages (from pandas>=0.23->seaborn) (2021.3)\r\n",
      "Requirement already satisfied: six in /Users/vanessawilson/sbox/test/Springer_Python_Marketing_Analytics/lib/python3.9/site-packages (from cycler>=0.10->matplotlib>=2.2->seaborn) (1.16.0)\r\n",
      "Installing collected packages: pillow, kiwisolver, cycler, scipy, matplotlib, seaborn\r\n",
      "Successfully installed cycler-0.10.0 kiwisolver-1.3.2 matplotlib-3.4.3 pillow-8.4.0 scipy-1.7.1 seaborn-0.11.2\r\n"
     ]
    },
    {
     "data": {
      "text/plain": "<AxesSubplot:>"
     },
     "execution_count": 3,
     "metadata": {},
     "output_type": "execute_result"
    },
    {
     "data": {
      "text/plain": "<Figure size 432x288 with 2 Axes>",
      "image/png": "[encoded data removed]"
     },
     "metadata": {
      "needs_background": "light"
     },
     "output_type": "display_data"
    }
   ],
   "source": [
    "!pip3 install seaborn\n",
    "\n",
    "import seaborn as sns\n",
    "sns.heatmap(sat_df.corr())"
   ],
   "metadata": {
    "collapsed": false,
    "pycharm": {
     "name": "#%%\n"
    }
   }
  },
  {
   "cell_type": "code",
   "execution_count": 4,
   "outputs": [
    {
     "data": {
      "text/plain": "Segment\n1    3.462963\n2    3.725191\n3    4.103896\n4    4.708075\nName: iProdSAT, dtype: float64"
     },
     "execution_count": 4,
     "metadata": {},
     "output_type": "execute_result"
    }
   ],
   "source": [
    "sat_df.groupby('Segment').iProdSAT.mean()"
   ],
   "metadata": {
    "collapsed": false,
    "pycharm": {
     "name": "#%%\n"
    }
   }
  },
  {
   "cell_type": "code",
   "execution_count": null,
   "outputs": [],
   "source": [
    "!pip3 install statsmodel\n",
    "\n",
    "import statsmodels.formula.api as smf\n",
    "from statsmodels.stats import anova as sms_anova\n",
    "\n",
    "segment_psat_lm = smf.ols('iProdSAT ~ -1 + Segment', data=sat_df).fit()\n",
    "sms_anova.anova_lm(segment_psat_lm)"
   ],
   "metadata": {
    "collapsed": false,
    "pycharm": {
     "name": "#%%\n"
    }
   }
  }
 ],
 "metadata": {
  "kernelspec": {
   "display_name": "Python 3",
   "language": "python",
   "name": "python3"
  },
  "language_info": {
   "codemirror_mode": {
    "name": "ipython",
    "version": 2
   },
   "file_extension": ".py",
   "mimetype": "text/x-python",
   "name": "python",
   "nbconvert_exporter": "python",
   "pygments_lexer": "ipython2",
   "version": "2.7.6"
  }
 },
 "nbformat": 4,
 "nbformat_minor": 0
}