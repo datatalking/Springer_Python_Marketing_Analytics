{
 "cells": [
  {
   "cell_type": "code",
   "execution_count": 122,
   "metadata": {
    "collapsed": true
   },
   "outputs": [
    {
     "name": "stdout",
     "output_type": "stream",
     "text": [
      "Requirement already satisfied: pandas in /Users/vanessawilson/sbox/test/Springer_Python_Marketing_Analytics/lib/python3.9/site-packages (1.3.4)\r\n",
      "Requirement already satisfied: numpy>=1.17.3 in /Users/vanessawilson/sbox/test/Springer_Python_Marketing_Analytics/lib/python3.9/site-packages (from pandas) (1.21.3)\r\n",
      "Requirement already satisfied: python-dateutil>=2.7.3 in /Users/vanessawilson/sbox/test/Springer_Python_Marketing_Analytics/lib/python3.9/site-packages (from pandas) (2.8.2)\r\n",
      "Requirement already satisfied: pytz>=2017.3 in /Users/vanessawilson/sbox/test/Springer_Python_Marketing_Analytics/lib/python3.9/site-packages (from pandas) (2021.3)\r\n",
      "Requirement already satisfied: six>=1.5 in /Users/vanessawilson/sbox/test/Springer_Python_Marketing_Analytics/lib/python3.9/site-packages (from python-dateutil>=2.7.3->pandas) (1.16.0)\r\n"
     ]
    },
    {
     "data": {
      "text/plain": "   iProdSAT  iSalesSAT Segment  iProdREC  iSalesREC\n0         6          2       1         4          3\n1         4          5       3         4          4\n2         5          3       4         5          4\n3         3          3       2         4          4\n4         3          3       3         2          2",
      "text/html": "<div>\n<style scoped>\n    .dataframe tbody tr th:only-of-type {\n        vertical-align: middle;\n    }\n\n    .dataframe tbody tr th {\n        vertical-align: top;\n    }\n\n    .dataframe thead th {\n        text-align: right;\n    }\n</style>\n<table border=\"1\" class=\"dataframe\">\n  <thead>\n    <tr style=\"text-align: right;\">\n      <th></th>\n      <th>iProdSAT</th>\n      <th>iSalesSAT</th>\n      <th>Segment</th>\n      <th>iProdREC</th>\n      <th>iSalesREC</th>\n    </tr>\n  </thead>\n  <tbody>\n    <tr>\n      <th>0</th>\n      <td>6</td>\n      <td>2</td>\n      <td>1</td>\n      <td>4</td>\n      <td>3</td>\n    </tr>\n    <tr>\n      <th>1</th>\n      <td>4</td>\n      <td>5</td>\n      <td>3</td>\n      <td>4</td>\n      <td>4</td>\n    </tr>\n    <tr>\n      <th>2</th>\n      <td>5</td>\n      <td>3</td>\n      <td>4</td>\n      <td>5</td>\n      <td>4</td>\n    </tr>\n    <tr>\n      <th>3</th>\n      <td>3</td>\n      <td>3</td>\n      <td>2</td>\n      <td>4</td>\n      <td>4</td>\n    </tr>\n    <tr>\n      <th>4</th>\n      <td>3</td>\n      <td>3</td>\n      <td>3</td>\n      <td>2</td>\n      <td>2</td>\n    </tr>\n  </tbody>\n</table>\n</div>"
     },
     "execution_count": 122,
     "metadata": {},
     "output_type": "execute_result"
    }
   ],
   "source": [
    "!pip3 install pandas\n",
    "\n",
    "import pandas as pd\n",
    "sat_df = pd.read_csv('http://bit.ly/PMR-ch2')\n",
    "sat_df.Segment = sat_df.Segment.astype(pd.api.types.CategoricalDtype())\n",
    "\n",
    "sat_df.head()"
   ]
  },
  {
   "cell_type": "code",
   "execution_count": 123,
   "outputs": [
    {
     "data": {
      "text/plain": "         iProdSAT   iSalesSAT    iProdREC   iSalesREC\ncount  500.000000  500.000000  500.000000  500.000000\nmean     4.130000    3.802000    4.044000    3.444000\nstd      1.091551    1.159951    1.299786    1.205724\nmin      1.000000    1.000000    1.000000    1.000000\n25%      3.000000    3.000000    3.000000    3.000000\n50%      4.000000    4.000000    4.000000    3.000000\n75%      5.000000    5.000000    5.000000    4.000000\nmax      7.000000    7.000000    7.000000    7.000000",
      "text/html": "<div>\n<style scoped>\n    .dataframe tbody tr th:only-of-type {\n        vertical-align: middle;\n    }\n\n    .dataframe tbody tr th {\n        vertical-align: top;\n    }\n\n    .dataframe thead th {\n        text-align: right;\n    }\n</style>\n<table border=\"1\" class=\"dataframe\">\n  <thead>\n    <tr style=\"text-align: right;\">\n      <th></th>\n      <th>iProdSAT</th>\n      <th>iSalesSAT</th>\n      <th>iProdREC</th>\n      <th>iSalesREC</th>\n    </tr>\n  </thead>\n  <tbody>\n    <tr>\n      <th>count</th>\n      <td>500.000000</td>\n      <td>500.000000</td>\n      <td>500.000000</td>\n      <td>500.000000</td>\n    </tr>\n    <tr>\n      <th>mean</th>\n      <td>4.130000</td>\n      <td>3.802000</td>\n      <td>4.044000</td>\n      <td>3.444000</td>\n    </tr>\n    <tr>\n      <th>std</th>\n      <td>1.091551</td>\n      <td>1.159951</td>\n      <td>1.299786</td>\n      <td>1.205724</td>\n    </tr>\n    <tr>\n      <th>min</th>\n      <td>1.000000</td>\n      <td>1.000000</td>\n      <td>1.000000</td>\n      <td>1.000000</td>\n    </tr>\n    <tr>\n      <th>25%</th>\n      <td>3.000000</td>\n      <td>3.000000</td>\n      <td>3.000000</td>\n      <td>3.000000</td>\n    </tr>\n    <tr>\n      <th>50%</th>\n      <td>4.000000</td>\n      <td>4.000000</td>\n      <td>4.000000</td>\n      <td>3.000000</td>\n    </tr>\n    <tr>\n      <th>75%</th>\n      <td>5.000000</td>\n      <td>5.000000</td>\n      <td>5.000000</td>\n      <td>4.000000</td>\n    </tr>\n    <tr>\n      <th>max</th>\n      <td>7.000000</td>\n      <td>7.000000</td>\n      <td>7.000000</td>\n      <td>7.000000</td>\n    </tr>\n  </tbody>\n</table>\n</div>"
     },
     "execution_count": 123,
     "metadata": {},
     "output_type": "execute_result"
    }
   ],
   "source": [
    "sat_df.describe()"
   ],
   "metadata": {
    "collapsed": false,
    "pycharm": {
     "name": "#%%\n"
    }
   }
  },
  {
   "cell_type": "code",
   "execution_count": 124,
   "outputs": [
    {
     "name": "stdout",
     "output_type": "stream",
     "text": [
      "Requirement already satisfied: seaborn in /Users/vanessawilson/sbox/test/Springer_Python_Marketing_Analytics/lib/python3.9/site-packages (0.11.2)\r\n",
      "Requirement already satisfied: scipy>=1.0 in /Users/vanessawilson/sbox/test/Springer_Python_Marketing_Analytics/lib/python3.9/site-packages (from seaborn) (1.7.1)\r\n",
      "Requirement already satisfied: numpy>=1.15 in /Users/vanessawilson/sbox/test/Springer_Python_Marketing_Analytics/lib/python3.9/site-packages (from seaborn) (1.21.3)\r\n",
      "Requirement already satisfied: pandas>=0.23 in /Users/vanessawilson/sbox/test/Springer_Python_Marketing_Analytics/lib/python3.9/site-packages (from seaborn) (1.3.4)\r\n",
      "Requirement already satisfied: matplotlib>=2.2 in /Users/vanessawilson/sbox/test/Springer_Python_Marketing_Analytics/lib/python3.9/site-packages (from seaborn) (3.4.3)\r\n",
      "Requirement already satisfied: pyparsing>=2.2.1 in /Users/vanessawilson/sbox/test/Springer_Python_Marketing_Analytics/lib/python3.9/site-packages (from matplotlib>=2.2->seaborn) (3.0.3)\r\n",
      "Requirement already satisfied: pillow>=6.2.0 in /Users/vanessawilson/sbox/test/Springer_Python_Marketing_Analytics/lib/python3.9/site-packages (from matplotlib>=2.2->seaborn) (8.4.0)\r\n",
      "Requirement already satisfied: cycler>=0.10 in /Users/vanessawilson/sbox/test/Springer_Python_Marketing_Analytics/lib/python3.9/site-packages (from matplotlib>=2.2->seaborn) (0.10.0)\r\n",
      "Requirement already satisfied: python-dateutil>=2.7 in /Users/vanessawilson/sbox/test/Springer_Python_Marketing_Analytics/lib/python3.9/site-packages (from matplotlib>=2.2->seaborn) (2.8.2)\r\n",
      "Requirement already satisfied: kiwisolver>=1.0.1 in /Users/vanessawilson/sbox/test/Springer_Python_Marketing_Analytics/lib/python3.9/site-packages (from matplotlib>=2.2->seaborn) (1.3.2)\r\n",
      "Requirement already satisfied: pytz>=2017.3 in /Users/vanessawilson/sbox/test/Springer_Python_Marketing_Analytics/lib/python3.9/site-packages (from pandas>=0.23->seaborn) (2021.3)\r\n",
      "Requirement already satisfied: six in /Users/vanessawilson/sbox/test/Springer_Python_Marketing_Analytics/lib/python3.9/site-packages (from cycler>=0.10->matplotlib>=2.2->seaborn) (1.16.0)\r\n"
     ]
    },
    {
     "data": {
      "text/plain": "<AxesSubplot:>"
     },
     "execution_count": 124,
     "metadata": {},
     "output_type": "execute_result"
    },
    {
     "data": {
      "text/plain": "<Figure size 432x288 with 2 Axes>",
      "image/png": "[encoded data removed]"
     },
     "metadata": {
      "needs_background": "light"
     },
     "output_type": "display_data"
    }
   ],
   "source": [
    "!pip3 install seaborn\n",
    "\n",
    "import seaborn as sns\n",
    "sns.heatmap(sat_df.corr())"
   ],
   "metadata": {
    "collapsed": false,
    "pycharm": {
     "name": "#%%\n"
    }
   }
  },
  {
   "cell_type": "code",
   "execution_count": 125,
   "outputs": [
    {
     "data": {
      "text/plain": "Segment\n1    3.462963\n2    3.725191\n3    4.103896\n4    4.708075\nName: iProdSAT, dtype: float64"
     },
     "execution_count": 125,
     "metadata": {},
     "output_type": "execute_result"
    }
   ],
   "source": [
    "sat_df.groupby('Segment').iProdSAT.mean()"
   ],
   "metadata": {
    "collapsed": false,
    "pycharm": {
     "name": "#%%\n"
    }
   }
  },
  {
   "cell_type": "code",
   "execution_count": 126,
   "outputs": [
    {
     "name": "stdout",
     "output_type": "stream",
     "text": [
      "Requirement already satisfied: statsmodels in /Users/vanessawilson/sbox/test/Springer_Python_Marketing_Analytics/lib/python3.9/site-packages (0.13.0)\r\n",
      "Requirement already satisfied: scipy>=1.3 in /Users/vanessawilson/sbox/test/Springer_Python_Marketing_Analytics/lib/python3.9/site-packages (from statsmodels) (1.7.1)\r\n",
      "Requirement already satisfied: patsy>=0.5.2 in /Users/vanessawilson/sbox/test/Springer_Python_Marketing_Analytics/lib/python3.9/site-packages (from statsmodels) (0.5.2)\r\n",
      "Requirement already satisfied: numpy>=1.17 in /Users/vanessawilson/sbox/test/Springer_Python_Marketing_Analytics/lib/python3.9/site-packages (from statsmodels) (1.21.3)\r\n",
      "Requirement already satisfied: pandas>=0.25 in /Users/vanessawilson/sbox/test/Springer_Python_Marketing_Analytics/lib/python3.9/site-packages (from statsmodels) (1.3.4)\r\n",
      "Requirement already satisfied: pytz>=2017.3 in /Users/vanessawilson/sbox/test/Springer_Python_Marketing_Analytics/lib/python3.9/site-packages (from pandas>=0.25->statsmodels) (2021.3)\r\n",
      "Requirement already satisfied: python-dateutil>=2.7.3 in /Users/vanessawilson/sbox/test/Springer_Python_Marketing_Analytics/lib/python3.9/site-packages (from pandas>=0.25->statsmodels) (2.8.2)\r\n",
      "Requirement already satisfied: six in /Users/vanessawilson/sbox/test/Springer_Python_Marketing_Analytics/lib/python3.9/site-packages (from patsy>=0.5.2->statsmodels) (1.16.0)\r\n"
     ]
    },
    {
     "data": {
      "text/plain": "             df       sum_sq      mean_sq           F         PR(>F)\nSegment     4.0  8627.850038  2156.962510  2160.66543  3.569726e-312\nResidual  496.0   495.149962     0.998286         NaN            NaN",
      "text/html": "<div>\n<style scoped>\n    .dataframe tbody tr th:only-of-type {\n        vertical-align: middle;\n    }\n\n    .dataframe tbody tr th {\n        vertical-align: top;\n    }\n\n    .dataframe thead th {\n        text-align: right;\n    }\n</style>\n<table border=\"1\" class=\"dataframe\">\n  <thead>\n    <tr style=\"text-align: right;\">\n      <th></th>\n      <th>df</th>\n      <th>sum_sq</th>\n      <th>mean_sq</th>\n      <th>F</th>\n      <th>PR(&gt;F)</th>\n    </tr>\n  </thead>\n  <tbody>\n    <tr>\n      <th>Segment</th>\n      <td>4.0</td>\n      <td>8627.850038</td>\n      <td>2156.962510</td>\n      <td>2160.66543</td>\n      <td>3.569726e-312</td>\n    </tr>\n    <tr>\n      <th>Residual</th>\n      <td>496.0</td>\n      <td>495.149962</td>\n      <td>0.998286</td>\n      <td>NaN</td>\n      <td>NaN</td>\n    </tr>\n  </tbody>\n</table>\n</div>"
     },
     "execution_count": 126,
     "metadata": {},
     "output_type": "execute_result"
    }
   ],
   "source": [
    "!pip3 install statsmodels\n",
    "\n",
    "import statsmodels.formula.api as smf\n",
    "from statsmodels.stats import anova as sms_anova\n",
    "\n",
    "segment_psat_lm = smf.ols('iProdSAT ~ -1 + Segment', data=sat_df).fit()\n",
    "sms_anova.anova_lm(segment_psat_lm)"
   ],
   "metadata": {
    "collapsed": false,
    "pycharm": {
     "name": "#%%\n"
    }
   }
  },
  {
   "cell_type": "code",
   "execution_count": 127,
   "outputs": [
    {
     "name": "stdout",
     "output_type": "stream",
     "text": [
      "\u001B[31mERROR: Could not find a version that satisfies the requirement pkg-config (from versions: none)\u001B[0m\r\n",
      "\u001B[31mERROR: No matching distribution found for pkg-config\u001B[0m\r\n",
      "Collecting matplotlib==2.2.2\r\n",
      "  Using cached matplotlib-2.2.2.tar.gz (37.3 MB)\r\n",
      "  Preparing metadata (setup.py) ... \u001B[?25l-\b \b\\\b \b|\b \b/\b \b-\b \b\\\b \berror\r\n",
      "\u001B[31m  ERROR: Command errored out with exit status 1:\r\n",
      "   command: /Users/vanessawilson/sbox/test/Springer_Python_Marketing_Analytics/bin/python -c 'import io, os, sys, setuptools, tokenize; sys.argv[0] = '\"'\"'/private/var/folders/m3/jsfh6v792_bg33tq9dyqyv200000gn/T/pip-install-4vg6riy_/matplotlib_7e80e82becc74a2897f65e1f26f687aa/setup.py'\"'\"'; __file__='\"'\"'/private/var/folders/m3/jsfh6v792_bg33tq9dyqyv200000gn/T/pip-install-4vg6riy_/matplotlib_7e80e82becc74a2897f65e1f26f687aa/setup.py'\"'\"';f = getattr(tokenize, '\"'\"'open'\"'\"', open)(__file__) if os.path.exists(__file__) else io.StringIO('\"'\"'from setuptools import setup; setup()'\"'\"');code = f.read().replace('\"'\"'\\r\\n'\"'\"', '\"'\"'\\n'\"'\"');f.close();exec(compile(code, __file__, '\"'\"'exec'\"'\"'))' egg_info --egg-base /private/var/folders/m3/jsfh6v792_bg33tq9dyqyv200000gn/T/pip-pip-egg-info-22ybyd38\r\n",
      "       cwd: /private/var/folders/m3/jsfh6v792_bg33tq9dyqyv200000gn/T/pip-install-4vg6riy_/matplotlib_7e80e82becc74a2897f65e1f26f687aa/\r\n",
      "  Complete output (106 lines):\r\n",
      "  IMPORTANT WARNING:\r\n",
      "      pkg-config is not installed.\r\n",
      "      matplotlib may not be able to find some of its dependencies\r\n",
      "  ============================================================================\r\n",
      "  Edit setup.cfg to change the build options\r\n",
      "  \r\n",
      "  BUILDING MATPLOTLIB\r\n",
      "              matplotlib: yes [2.2.2]\r\n",
      "                  python: yes [3.9.7 (default, Oct 13 2021, 06:44:56)  [Clang\r\n",
      "                          12.0.0 (clang-1200.0.32.29)]]\r\n",
      "                platform: yes [darwin]\r\n",
      "  \r\n",
      "  REQUIRED DEPENDENCIES AND EXTENSIONS\r\n",
      "                   numpy: yes [version 1.21.3]\r\n",
      "        install_requires: yes [handled by setuptools]\r\n",
      "                  libagg: yes [pkg-config information for 'libagg' could not\r\n",
      "                          be found. Using local copy.]\r\n",
      "                freetype: no  [The C/C++ header for freetype2 (ft2build.h)\r\n",
      "                          could not be found.  You may need to install the\r\n",
      "                          development package.]\r\n",
      "                     png: yes [pkg-config information for 'libpng' could not\r\n",
      "                          be found. Using unknown version found on system.]\r\n",
      "                   qhull: yes [pkg-config information for 'libqhull' could not\r\n",
      "                          be found. Using local copy.]\r\n",
      "  \r\n",
      "  OPTIONAL SUBPACKAGES\r\n",
      "             sample_data: yes [installing]\r\n",
      "                toolkits: yes [installing]\r\n",
      "                   tests: no  [skipping due to configuration]\r\n",
      "          toolkits_tests: no  [skipping due to configuration]\r\n",
      "  \r\n",
      "  OPTIONAL BACKEND EXTENSIONS\r\n",
      "                  macosx: yes [installing, darwin]\r\n",
      "  IMPORTANT WARNING:\r\n",
      "      pkg-config is not installed.\r\n",
      "      matplotlib may not be able to find some of its dependencies\r\n",
      "  IMPORTANT WARNING:\r\n",
      "      pkg-config is not installed.\r\n",
      "      matplotlib may not be able to find some of its dependencies\r\n",
      "  IMPORTANT WARNING:\r\n",
      "      pkg-config is not installed.\r\n",
      "      matplotlib may not be able to find some of its dependencies\r\n",
      "  IMPORTANT WARNING:\r\n",
      "      pkg-config is not installed.\r\n",
      "      matplotlib may not be able to find some of its dependencies\r\n",
      "                  qt5agg: no  [PySide2 not found; PyQt5 not found]\r\n",
      "  IMPORTANT WARNING:\r\n",
      "      pkg-config is not installed.\r\n",
      "      matplotlib may not be able to find some of its dependencies\r\n",
      "  IMPORTANT WARNING:\r\n",
      "      pkg-config is not installed.\r\n",
      "      matplotlib may not be able to find some of its dependencies\r\n",
      "  IMPORTANT WARNING:\r\n",
      "      pkg-config is not installed.\r\n",
      "      matplotlib may not be able to find some of its dependencies\r\n",
      "  IMPORTANT WARNING:\r\n",
      "      pkg-config is not installed.\r\n",
      "      matplotlib may not be able to find some of its dependencies\r\n",
      "                  qt4agg: no  [PySide not found; PyQt4 not found]\r\n",
      "  IMPORTANT WARNING:\r\n",
      "      pkg-config is not installed.\r\n",
      "      matplotlib may not be able to find some of its dependencies\r\n",
      "  IMPORTANT WARNING:\r\n",
      "      pkg-config is not installed.\r\n",
      "      matplotlib may not be able to find some of its dependencies\r\n",
      "  IMPORTANT WARNING:\r\n",
      "      pkg-config is not installed.\r\n",
      "      matplotlib may not be able to find some of its dependencies\r\n",
      "  IMPORTANT WARNING:\r\n",
      "      pkg-config is not installed.\r\n",
      "      matplotlib may not be able to find some of its dependencies\r\n",
      "                 gtk3agg: no  [Requires pygobject to be installed.]\r\n",
      "  IMPORTANT WARNING:\r\n",
      "      pkg-config is not installed.\r\n",
      "      matplotlib may not be able to find some of its dependencies\r\n",
      "  IMPORTANT WARNING:\r\n",
      "      pkg-config is not installed.\r\n",
      "      matplotlib may not be able to find some of its dependencies\r\n",
      "  IMPORTANT WARNING:\r\n",
      "      pkg-config is not installed.\r\n",
      "      matplotlib may not be able to find some of its dependencies\r\n",
      "  IMPORTANT WARNING:\r\n",
      "      pkg-config is not installed.\r\n",
      "      matplotlib may not be able to find some of its dependencies\r\n",
      "               gtk3cairo: no  [Requires cairocffi or pycairo to be installed.]\r\n",
      "                  gtkagg: no  [Requires pygtk]\r\n",
      "                   tkagg: yes [installing; run-time loading from Python Tcl /\r\n",
      "                          Tk]\r\n",
      "                   wxagg: no  [requires wxPython]\r\n",
      "                     gtk: no  [Requires pygtk]\r\n",
      "                     agg: yes [installing]\r\n",
      "                   cairo: no  [cairocffi or pycairo not found]\r\n",
      "               windowing: no  [Microsoft Windows only]\r\n",
      "  \r\n",
      "  OPTIONAL LATEX DEPENDENCIES\r\n",
      "                  dvipng: no\r\n",
      "             ghostscript: no\r\n",
      "                   latex: no\r\n",
      "                 pdftops: no\r\n",
      "  \r\n",
      "  OPTIONAL PACKAGE DATA\r\n",
      "                    dlls: no  [skipping due to configuration]\r\n",
      "  \r\n",
      "  ============================================================================\r\n",
      "                          * The following required packages can not be built:\r\n",
      "                          * freetype\r\n",
      "  ----------------------------------------\u001B[0m\r\n",
      "\u001B[33mWARNING: Discarding https://files.pythonhosted.org/packages/ec/ed/46b835da53b7ed05bd4c6cae293f13ec26e877d2e490a53a709915a9dcb7/matplotlib-2.2.2.tar.gz#sha256=4dc7ef528aad21f22be85e95725234c5178c0f938e2228ca76640e5e84d8cde8 (from https://pypi.org/simple/matplotlib/). Command errored out with exit status 1: python setup.py egg_info Check the logs for full command output.\u001B[0m\r\n",
      "\u001B[31mERROR: Could not find a version that satisfies the requirement matplotlib==2.2.2 (from versions: 0.86, 0.86.1, 0.86.2, 0.91.0, 0.91.1, 1.0.1, 1.1.0, 1.1.1, 1.2.0, 1.2.1, 1.3.0, 1.3.1, 1.4.0, 1.4.1rc1, 1.4.1, 1.4.2, 1.4.3, 1.5.0, 1.5.1, 1.5.2, 1.5.3, 2.0.0b1, 2.0.0b2, 2.0.0b3, 2.0.0b4, 2.0.0rc1, 2.0.0rc2, 2.0.0, 2.0.1, 2.0.2, 2.1.0rc1, 2.1.0, 2.1.1, 2.1.2, 2.2.0rc1, 2.2.0, 2.2.2, 2.2.3, 2.2.4, 2.2.5, 3.0.0rc2, 3.0.0, 3.0.1, 3.0.2, 3.0.3, 3.1.0rc1, 3.1.0rc2, 3.1.0, 3.1.1, 3.1.2, 3.1.3, 3.2.0rc1, 3.2.0rc3, 3.2.0, 3.2.1, 3.2.2, 3.3.0rc1, 3.3.0, 3.3.1, 3.3.2, 3.3.3, 3.3.4, 3.4.0rc1, 3.4.0rc2, 3.4.0rc3, 3.4.0, 3.4.1, 3.4.2, 3.4.3, 3.5.0b1, 3.5.0rc1)\u001B[0m\r\n",
      "\u001B[31mERROR: No matching distribution found for matplotlib==2.2.2\u001B[0m\r\n",
      "\u001B[?25h"
     ]
    },
    {
     "data": {
      "text/plain": "<ErrorbarContainer object of 3 artists>"
     },
     "execution_count": 127,
     "metadata": {},
     "output_type": "execute_result"
    },
    {
     "data": {
      "text/plain": "<Figure size 432x288 with 1 Axes>",
      "image/png": "[encoded data removed]"
     },
     "metadata": {
      "needs_background": "light"
     },
     "output_type": "display_data"
    }
   ],
   "source": [
    "!pip3 install pkg-config\n",
    "!pip3 install matplotlib==2.2.2\n",
    "\n",
    "\n",
    "import matplotlib.pyplot as plt\n",
    "\n",
    "plt.errorbar(y=segment_psat_lm.params.index,\n",
    "             x=segment_psat_lm.params.values,\n",
    "             xerr=segment_psat_lm.conf_int()[1].T - segment_psat_lm.params,\n",
    "             fmt='ko')\n",
    "# TODO this generates an error <ErrorbarContainer object of 3 artists>"
   ],
   "metadata": {
    "collapsed": false,
    "pycharm": {
     "name": "#%%\n"
    }
   }
  },
  {
   "cell_type": "code",
   "execution_count": 128,
   "outputs": [
    {
     "name": "stdout",
     "output_type": "stream",
     "text": [
      "[1, 2, 3]\n"
     ]
    }
   ],
   "source": [
    "x = [1, 2, 3]\n",
    "print(x)\n",
    "\n",
    "# print(X) will give error not defined"
   ],
   "metadata": {
    "collapsed": false,
    "pycharm": {
     "name": "#%%\n"
    }
   }
  },
  {
   "cell_type": "code",
   "execution_count": 129,
   "outputs": [],
   "source": [
    "x = [1, 23, 6]"
   ],
   "metadata": {
    "collapsed": false,
    "pycharm": {
     "name": "#%%\n"
    }
   }
  },
  {
   "cell_type": "code",
   "execution_count": 130,
   "outputs": [
    {
     "data": {
      "text/plain": "True"
     },
     "execution_count": 130,
     "metadata": {},
     "output_type": "execute_result"
    }
   ],
   "source": [
    "1 == 1"
   ],
   "metadata": {
    "collapsed": false,
    "pycharm": {
     "name": "#%%\n"
    }
   }
  },
  {
   "cell_type": "code",
   "execution_count": 131,
   "outputs": [
    {
     "data": {
      "text/plain": "True"
     },
     "execution_count": 131,
     "metadata": {},
     "output_type": "execute_result"
    }
   ],
   "source": [
    "1 < 2"
   ],
   "metadata": {
    "collapsed": false,
    "pycharm": {
     "name": "#%%\n"
    }
   }
  },
  {
   "cell_type": "code",
   "execution_count": 132,
   "outputs": [
    {
     "data": {
      "text/plain": "False"
     },
     "execution_count": 132,
     "metadata": {},
     "output_type": "execute_result"
    }
   ],
   "source": [
    "1 == 2 # false"
   ],
   "metadata": {
    "collapsed": false,
    "pycharm": {
     "name": "#%%\n"
    }
   }
  },
  {
   "cell_type": "code",
   "execution_count": 133,
   "outputs": [
    {
     "data": {
      "text/plain": "True"
     },
     "execution_count": 133,
     "metadata": {},
     "output_type": "execute_result"
    }
   ],
   "source": [
    "x = True\n",
    "y = False\n",
    "x or y"
   ],
   "metadata": {
    "collapsed": false,
    "pycharm": {
     "name": "#%%\n"
    }
   }
  },
  {
   "cell_type": "code",
   "execution_count": 134,
   "outputs": [
    {
     "data": {
      "text/plain": "True"
     },
     "execution_count": 134,
     "metadata": {},
     "output_type": "execute_result"
    }
   ],
   "source": [
    "x"
   ],
   "metadata": {
    "collapsed": false,
    "pycharm": {
     "name": "#%%\n"
    }
   }
  },
  {
   "cell_type": "code",
   "execution_count": 135,
   "outputs": [
    {
     "data": {
      "text/plain": "False"
     },
     "execution_count": 135,
     "metadata": {},
     "output_type": "execute_result"
    }
   ],
   "source": [
    "y"
   ],
   "metadata": {
    "collapsed": false,
    "pycharm": {
     "name": "#%%\n"
    }
   }
  },
  {
   "cell_type": "code",
   "execution_count": 136,
   "outputs": [
    {
     "data": {
      "text/plain": "False"
     },
     "execution_count": 136,
     "metadata": {},
     "output_type": "execute_result"
    }
   ],
   "source": [
    "x and y"
   ],
   "metadata": {
    "collapsed": false,
    "pycharm": {
     "name": "#%%\n"
    }
   }
  },
  {
   "cell_type": "code",
   "execution_count": 137,
   "outputs": [
    {
     "data": {
      "text/plain": "True"
     },
     "execution_count": 137,
     "metadata": {},
     "output_type": "execute_result"
    }
   ],
   "source": [
    "x and not y"
   ],
   "metadata": {
    "collapsed": false,
    "pycharm": {
     "name": "#%%\n"
    }
   }
  },
  {
   "cell_type": "code",
   "execution_count": 138,
   "outputs": [
    {
     "data": {
      "text/plain": "6"
     },
     "execution_count": 138,
     "metadata": {},
     "output_type": "execute_result"
    }
   ],
   "source": [
    "x = 2\n",
    "y = 4\n",
    "x + y"
   ],
   "metadata": {
    "collapsed": false,
    "pycharm": {
     "name": "#%%\n"
    }
   }
  },
  {
   "cell_type": "code",
   "execution_count": 139,
   "outputs": [
    {
     "data": {
      "text/plain": "0.5"
     },
     "execution_count": 139,
     "metadata": {},
     "output_type": "execute_result"
    }
   ],
   "source": [
    "w = x/y\n",
    "w"
   ],
   "metadata": {
    "collapsed": false,
    "pycharm": {
     "name": "#%%\n"
    }
   }
  },
  {
   "cell_type": "code",
   "execution_count": 140,
   "outputs": [
    {
     "data": {
      "text/plain": "float"
     },
     "execution_count": 140,
     "metadata": {},
     "output_type": "execute_result"
    }
   ],
   "source": [
    "type(w)"
   ],
   "metadata": {
    "collapsed": false,
    "pycharm": {
     "name": "#%%\n"
    }
   }
  },
  {
   "cell_type": "code",
   "execution_count": 141,
   "outputs": [
    {
     "data": {
      "text/plain": "16"
     },
     "execution_count": 141,
     "metadata": {},
     "output_type": "execute_result"
    }
   ],
   "source": [
    "x ** y"
   ],
   "metadata": {
    "collapsed": false,
    "pycharm": {
     "name": "#%%\n"
    }
   }
  },
  {
   "cell_type": "code",
   "execution_count": 142,
   "outputs": [
    {
     "data": {
      "text/plain": "[0, 1, 2, 3, 4, 5, 'a', 'b', 'c']"
     },
     "execution_count": 142,
     "metadata": {},
     "output_type": "execute_result"
    }
   ],
   "source": [
    "z = 3.2\n",
    "type(x * z)\n",
    "\n",
    "# 2.4.4 Sequence Types\n",
    "x = [0, 1, 2, 3, 4, 5]\n",
    "y = ['a', 'b', 'c']\n",
    "x + y"
   ],
   "metadata": {
    "collapsed": false,
    "pycharm": {
     "name": "#%%\n"
    }
   }
  },
  {
   "cell_type": "code",
   "execution_count": 143,
   "outputs": [
    {
     "data": {
      "text/plain": "[0, 1, 2, 3, 4, 5, 'r']"
     },
     "execution_count": 143,
     "metadata": {},
     "output_type": "execute_result"
    }
   ],
   "source": [
    "x.append('r')\n",
    "x"
   ],
   "metadata": {
    "collapsed": false,
    "pycharm": {
     "name": "#%%\n"
    }
   }
  },
  {
   "cell_type": "code",
   "execution_count": 144,
   "outputs": [
    {
     "data": {
      "text/plain": "7"
     },
     "execution_count": 144,
     "metadata": {},
     "output_type": "execute_result"
    }
   ],
   "source": [
    "len(x)"
   ],
   "metadata": {
    "collapsed": false,
    "pycharm": {
     "name": "#%%\n"
    }
   }
  },
  {
   "cell_type": "code",
   "execution_count": 145,
   "outputs": [
    {
     "data": {
      "text/plain": "1"
     },
     "execution_count": 145,
     "metadata": {},
     "output_type": "execute_result"
    }
   ],
   "source": [
    "x[1]"
   ],
   "metadata": {
    "collapsed": false,
    "pycharm": {
     "name": "#%%\n"
    }
   }
  },
  {
   "cell_type": "code",
   "execution_count": 146,
   "outputs": [
    {
     "data": {
      "text/plain": "[2, 3]"
     },
     "execution_count": 146,
     "metadata": {},
     "output_type": "execute_result"
    }
   ],
   "source": [
    "x[2:4]"
   ],
   "metadata": {
    "collapsed": false,
    "pycharm": {
     "name": "#%%\n"
    }
   }
  },
  {
   "cell_type": "code",
   "execution_count": 147,
   "outputs": [
    {
     "data": {
      "text/plain": "[2, 3]"
     },
     "execution_count": 147,
     "metadata": {},
     "output_type": "execute_result"
    }
   ],
   "source": [
    "x[2:4]"
   ],
   "metadata": {
    "collapsed": false,
    "pycharm": {
     "name": "#%%x\n"
    }
   }
  },
  {
   "cell_type": "code",
   "execution_count": 148,
   "outputs": [
    {
     "data": {
      "text/plain": "[0, 1]"
     },
     "execution_count": 148,
     "metadata": {},
     "output_type": "execute_result"
    }
   ],
   "source": [
    "x[:2]"
   ],
   "metadata": {
    "collapsed": false,
    "pycharm": {
     "name": "#%%\n"
    }
   }
  },
  {
   "cell_type": "code",
   "execution_count": 149,
   "outputs": [
    {
     "data": {
      "text/plain": "[1, 2, 3, 4, 5, 'r']"
     },
     "execution_count": 149,
     "metadata": {},
     "output_type": "execute_result"
    }
   ],
   "source": [
    "x[1:]"
   ],
   "metadata": {
    "collapsed": false,
    "pycharm": {
     "name": "#%%\n"
    }
   }
  },
  {
   "cell_type": "code",
   "execution_count": 150,
   "outputs": [
    {
     "data": {
      "text/plain": "[5, 'r']"
     },
     "execution_count": 150,
     "metadata": {},
     "output_type": "execute_result"
    }
   ],
   "source": [
    "x[-2:]"
   ],
   "metadata": {
    "collapsed": false,
    "pycharm": {
     "name": "#%%\n"
    }
   }
  },
  {
   "cell_type": "code",
   "execution_count": 151,
   "outputs": [
    {
     "data": {
      "text/plain": "[0, 1, 'freeze', 3, 4, 5, 'r']"
     },
     "execution_count": 151,
     "metadata": {},
     "output_type": "execute_result"
    }
   ],
   "source": [
    "x[2] = 'freeze'\n",
    "x"
   ],
   "metadata": {
    "collapsed": false,
    "pycharm": {
     "name": "#%%\n"
    }
   }
  },
  {
   "cell_type": "code",
   "execution_count": 152,
   "outputs": [
    {
     "data": {
      "text/plain": "8"
     },
     "execution_count": 152,
     "metadata": {},
     "output_type": "execute_result"
    }
   ],
   "source": [
    "z = (7, 8, 9)\n",
    "z[1]"
   ],
   "metadata": {
    "collapsed": false,
    "pycharm": {
     "name": "#%%\n"
    }
   }
  },
  {
   "cell_type": "code",
   "execution_count": 153,
   "outputs": [],
   "source": [
    "# z[1] = 'boil'\n",
    "pass\n",
    "# TypeError should result"
   ],
   "metadata": {
    "collapsed": false,
    "pycharm": {
     "name": "#%%\n"
    }
   }
  },
  {
   "cell_type": "code",
   "source": [
    "# Ranges\n",
    "range(10)"
   ],
   "metadata": {
    "collapsed": false,
    "pycharm": {
     "name": "#%%\n"
    }
   },
   "execution_count": 154,
   "outputs": [
    {
     "data": {
      "text/plain": "range(0, 10)"
     },
     "execution_count": 154,
     "metadata": {},
     "output_type": "execute_result"
    }
   ]
  },
  {
   "cell_type": "code",
   "execution_count": 155,
   "outputs": [
    {
     "data": {
      "text/plain": "[0, 1, 2, 3, 4, 5, 6, 7, 8, 9]"
     },
     "execution_count": 155,
     "metadata": {},
     "output_type": "execute_result"
    }
   ],
   "source": [
    "list(range(0, 10))"
   ],
   "metadata": {
    "collapsed": false,
    "pycharm": {
     "name": "#%%\n"
    }
   }
  },
  {
   "cell_type": "code",
   "execution_count": 156,
   "outputs": [
    {
     "data": {
      "text/plain": "[2, 3, 4, 5, 6, 7, 8, 9, 10, 11]"
     },
     "execution_count": 156,
     "metadata": {},
     "output_type": "execute_result"
    }
   ],
   "source": [
    "list(range(2, 12))"
   ],
   "metadata": {
    "collapsed": false,
    "pycharm": {
     "name": "#%%\n"
    }
   }
  },
  {
   "cell_type": "code",
   "execution_count": 157,
   "outputs": [
    {
     "data": {
      "text/plain": "[2, 4, 6, 8, 10]"
     },
     "execution_count": 157,
     "metadata": {},
     "output_type": "execute_result"
    }
   ],
   "source": [
    "list(range(2, 12, 2))"
   ],
   "metadata": {
    "collapsed": false,
    "pycharm": {
     "name": "#%%\n"
    }
   }
  },
  {
   "cell_type": "code",
   "execution_count": 158,
   "outputs": [
    {
     "data": {
      "text/plain": "'HelloWorld'"
     },
     "execution_count": 158,
     "metadata": {},
     "output_type": "execute_result"
    }
   ],
   "source": [
    "# Section 2.4.5\n",
    "x = 'Hello'\n",
    "y = 'World'\n",
    "x+y"
   ],
   "metadata": {
    "collapsed": false,
    "pycharm": {
     "name": "#%%\n"
    }
   }
  },
  {
   "cell_type": "code",
   "execution_count": 159,
   "outputs": [
    {
     "data": {
      "text/plain": "'lo'"
     },
     "execution_count": 159,
     "metadata": {},
     "output_type": "execute_result"
    }
   ],
   "source": [
    "x[3:]"
   ],
   "metadata": {
    "collapsed": false,
    "pycharm": {
     "name": "#%%\n"
    }
   }
  },
  {
   "cell_type": "code",
   "execution_count": 160,
   "outputs": [
    {
     "data": {
      "text/plain": "'HELLO'"
     },
     "execution_count": 160,
     "metadata": {},
     "output_type": "execute_result"
    }
   ],
   "source": [
    "x.upper()"
   ],
   "metadata": {
    "collapsed": false,
    "pycharm": {
     "name": "#%%\n"
    }
   }
  },
  {
   "cell_type": "code",
   "execution_count": 161,
   "outputs": [
    {
     "data": {
      "text/plain": "'Hello, World, what a day!'"
     },
     "execution_count": 161,
     "metadata": {},
     "output_type": "execute_result"
    }
   ],
   "source": [
    "x.replace('lo', 'p')\n",
    "', '.join([x, y, 'what a day!'])"
   ],
   "metadata": {
    "collapsed": false,
    "pycharm": {
     "name": "#%%\n"
    }
   }
  },
  {
   "cell_type": "code",
   "execution_count": 162,
   "outputs": [
    {
     "data": {
      "text/plain": "['Hello', ' World', ' what a day!']"
     },
     "execution_count": 162,
     "metadata": {},
     "output_type": "execute_result"
    }
   ],
   "source": [
    "'Hello, World, what a day!'.split(',')"
   ],
   "metadata": {
    "collapsed": false,
    "pycharm": {
     "name": "#%%\n"
    }
   }
  },
  {
   "cell_type": "code",
   "execution_count": 163,
   "outputs": [
    {
     "data": {
      "text/plain": "'The temperature today is 21.34 degrees'"
     },
     "execution_count": 163,
     "metadata": {},
     "output_type": "execute_result"
    }
   ],
   "source": [
    "temperature = 21.34\n",
    "'The temperature today is {} degrees'.format(temperature)"
   ],
   "metadata": {
    "collapsed": false,
    "pycharm": {
     "name": "#%%\n"
    }
   }
  },
  {
   "cell_type": "code",
   "execution_count": 164,
   "outputs": [
    {
     "data": {
      "text/plain": "'18.93 divided by 345.234 equals 0.05483237456333965'"
     },
     "execution_count": 164,
     "metadata": {},
     "output_type": "execute_result"
    }
   ],
   "source": [
    "x = 18.93\n",
    "y = 345.234\n",
    "'{} divided by {} equals {}'                .format(x, y, x/y)"
   ],
   "metadata": {
    "collapsed": false,
    "pycharm": {
     "name": "#%%\n"
    }
   }
  },
  {
   "cell_type": "code",
   "execution_count": 165,
   "outputs": [
    {
     "data": {
      "text/plain": "'18.93 plus 18.93 plus 345.234 equals 383.094'"
     },
     "execution_count": 165,
     "metadata": {},
     "output_type": "execute_result"
    }
   ],
   "source": [
    "'{x} plus {x} plus {y} equals {r}'.format(x=x, y=y, r=x+x+y)"
   ],
   "metadata": {
    "collapsed": false,
    "pycharm": {
     "name": "#%%\n"
    }
   }
  },
  {
   "cell_type": "code",
   "execution_count": 166,
   "outputs": [
    {
     "data": {
      "text/plain": "{1, 3, 8, 12}"
     },
     "execution_count": 166,
     "metadata": {},
     "output_type": "execute_result"
    }
   ],
   "source": [
    "# Section 2.4.6\n",
    "x = [1, 1, 3, 8, 12, 12]\n",
    "set(x)"
   ],
   "metadata": {
    "collapsed": false,
    "pycharm": {
     "name": "#%%\n"
    }
   }
  },
  {
   "cell_type": "code",
   "execution_count": 167,
   "outputs": [
    {
     "data": {
      "text/plain": "True"
     },
     "execution_count": 167,
     "metadata": {},
     "output_type": "execute_result"
    }
   ],
   "source": [
    "3 in x"
   ],
   "metadata": {
    "collapsed": false,
    "pycharm": {
     "name": "#%%\n"
    }
   }
  },
  {
   "cell_type": "code",
   "execution_count": 168,
   "outputs": [
    {
     "data": {
      "text/plain": "False"
     },
     "execution_count": 168,
     "metadata": {},
     "output_type": "execute_result"
    }
   ],
   "source": [
    "5 in x"
   ],
   "metadata": {
    "collapsed": false,
    "pycharm": {
     "name": "#%%\n"
    }
   }
  },
  {
   "cell_type": "code",
   "execution_count": 169,
   "outputs": [
    {
     "data": {
      "text/plain": "{8}"
     },
     "execution_count": 169,
     "metadata": {},
     "output_type": "execute_result"
    }
   ],
   "source": [
    "x = set([1, 1, 3, 8, 12, 12])\n",
    "y = set([2, 2, 8, 9])\n",
    "x.intersection(y)"
   ],
   "metadata": {
    "collapsed": false,
    "pycharm": {
     "name": "#%%\n"
    }
   }
  },
  {
   "cell_type": "code",
   "execution_count": 170,
   "outputs": [
    {
     "data": {
      "text/plain": "{2, 9}"
     },
     "execution_count": 170,
     "metadata": {},
     "output_type": "execute_result"
    }
   ],
   "source": [
    "y.difference(x)"
   ],
   "metadata": {
    "collapsed": false,
    "pycharm": {
     "name": "#%%\n"
    }
   }
  },
  {
   "cell_type": "code",
   "execution_count": 171,
   "outputs": [
    {
     "data": {
      "text/plain": "{1, 2, 3, 8, 9, 12}"
     },
     "execution_count": 171,
     "metadata": {},
     "output_type": "execute_result"
    }
   ],
   "source": [
    "x.union(y)"
   ],
   "metadata": {
    "collapsed": false,
    "pycharm": {
     "name": "#%%\n"
    }
   }
  },
  {
   "cell_type": "code",
   "execution_count": 172,
   "outputs": [
    {
     "data": {
      "text/plain": "{'a': 1, 'b': 2, 'c': 3}"
     },
     "execution_count": 172,
     "metadata": {},
     "output_type": "execute_result"
    }
   ],
   "source": [
    "# Section 2.4.7 Mapping Tree\n",
    "x = dict(a=1, b=2, c=3)\n",
    "x"
   ],
   "metadata": {
    "collapsed": false,
    "pycharm": {
     "name": "#%%\n"
    }
   }
  },
  {
   "cell_type": "code",
   "execution_count": 173,
   "outputs": [
    {
     "data": {
      "text/plain": "{'a': 1, 'b': 2, 'c': 3}"
     },
     "execution_count": 173,
     "metadata": {},
     "output_type": "execute_result"
    }
   ],
   "source": [
    "x = {'a': 1, 'b': 2, 'c': 3}\n",
    "x"
   ],
   "metadata": {
    "collapsed": false,
    "pycharm": {
     "name": "#%%\n"
    }
   }
  },
  {
   "cell_type": "code",
   "execution_count": 174,
   "outputs": [
    {
     "data": {
      "text/plain": "{'a': 1, 'b': 2, 'c': 3}"
     },
     "execution_count": 174,
     "metadata": {},
     "output_type": "execute_result"
    }
   ],
   "source": [
    "y= {'a': 1, 'b': 2, 'c': 3}\n",
    "y"
   ],
   "metadata": {
    "collapsed": false,
    "pycharm": {
     "name": "#%%\n"
    }
   }
  },
  {
   "cell_type": "code",
   "execution_count": 175,
   "outputs": [
    {
     "data": {
      "text/plain": "1"
     },
     "execution_count": 175,
     "metadata": {},
     "output_type": "execute_result"
    }
   ],
   "source": [
    "x['a']"
   ],
   "metadata": {
    "collapsed": false,
    "pycharm": {
     "name": "#%%\n"
    }
   }
  },
  {
   "cell_type": "code",
   "execution_count": 176,
   "outputs": [
    {
     "data": {
      "text/plain": "dict_items([('a', 1), ('b', 2), ('c', 3)])"
     },
     "execution_count": 176,
     "metadata": {},
     "output_type": "execute_result"
    }
   ],
   "source": [
    "y.items()"
   ],
   "metadata": {
    "collapsed": false,
    "pycharm": {
     "name": "#%%\n"
    }
   }
  },
  {
   "cell_type": "code",
   "execution_count": 177,
   "outputs": [
    {
     "data": {
      "text/plain": "dict_keys(['a', 'b', 'c'])"
     },
     "execution_count": 177,
     "metadata": {},
     "output_type": "execute_result"
    }
   ],
   "source": [
    "y.keys()"
   ],
   "metadata": {
    "collapsed": false,
    "pycharm": {
     "name": "#%%\n"
    }
   }
  },
  {
   "cell_type": "code",
   "execution_count": 178,
   "outputs": [
    {
     "data": {
      "text/plain": "dict_values([1, 2, 3])"
     },
     "execution_count": 178,
     "metadata": {},
     "output_type": "execute_result"
    }
   ],
   "source": [
    "y.values()"
   ],
   "metadata": {
    "collapsed": false,
    "pycharm": {
     "name": "#%%\n"
    }
   }
  },
  {
   "cell_type": "code",
   "execution_count": 179,
   "outputs": [],
   "source": [
    "# Section 2.4.8 Functions, Classes, and Methods\n",
    "def add(a, b):\n",
    "    return a + b"
   ],
   "metadata": {
    "collapsed": false,
    "pycharm": {
     "name": "#%%\n"
    }
   }
  },
  {
   "cell_type": "code",
   "execution_count": 180,
   "outputs": [
    {
     "data": {
      "text/plain": "7"
     },
     "execution_count": 180,
     "metadata": {},
     "output_type": "execute_result"
    }
   ],
   "source": [
    "add(3, 4)"
   ],
   "metadata": {
    "collapsed": false,
    "pycharm": {
     "name": "#%%\n"
    }
   }
  },
  {
   "cell_type": "code",
   "execution_count": 181,
   "outputs": [
    {
     "data": {
      "text/plain": "7"
     },
     "execution_count": 181,
     "metadata": {},
     "output_type": "execute_result"
    }
   ],
   "source": [
    "add(a=3, b=4)"
   ],
   "metadata": {
    "collapsed": false,
    "pycharm": {
     "name": "#%%\n"
    }
   }
  },
  {
   "cell_type": "code",
   "execution_count": 182,
   "outputs": [
    {
     "data": {
      "text/plain": "3"
     },
     "execution_count": 182,
     "metadata": {},
     "output_type": "execute_result"
    }
   ],
   "source": [
    "def add(a, b=0):\n",
    "    return a + b\n",
    "add(3)"
   ],
   "metadata": {
    "collapsed": false,
    "pycharm": {
     "name": "#%%\n"
    }
   }
  },
  {
   "cell_type": "code",
   "execution_count": 183,
   "outputs": [
    {
     "data": {
      "text/plain": "7"
     },
     "execution_count": 183,
     "metadata": {},
     "output_type": "execute_result"
    }
   ],
   "source": [
    "add(3,4)"
   ],
   "metadata": {
    "collapsed": false,
    "pycharm": {
     "name": "#%%\n"
    }
   }
  },
  {
   "cell_type": "code",
   "execution_count": 184,
   "outputs": [],
   "source": [
    "class Adder:\n",
    "    '''A class that adds its parameters'''\n",
    "    def __init__(self, a, b):\n",
    "        self.x = a\n",
    "        self.y = b\n",
    "\n",
    "    def add(self):\n",
    "        return self.x + self.y"
   ],
   "metadata": {
    "collapsed": false,
    "pycharm": {
     "name": "#%%\n"
    }
   }
  },
  {
   "cell_type": "code",
   "execution_count": 185,
   "outputs": [
    {
     "data": {
      "text/plain": "<__main__.Adder at 0x124a95d60>"
     },
     "execution_count": 185,
     "metadata": {},
     "output_type": "execute_result"
    }
   ],
   "source": [
    "adder = Adder(3, 4)\n",
    "adder"
   ],
   "metadata": {
    "collapsed": false,
    "pycharm": {
     "name": "#%%\n"
    }
   }
  },
  {
   "cell_type": "code",
   "execution_count": 186,
   "outputs": [
    {
     "data": {
      "text/plain": "3"
     },
     "execution_count": 186,
     "metadata": {},
     "output_type": "execute_result"
    }
   ],
   "source": [
    "adder.x"
   ],
   "metadata": {
    "collapsed": false,
    "pycharm": {
     "name": "#%%\n"
    }
   }
  },
  {
   "cell_type": "code",
   "execution_count": 187,
   "outputs": [
    {
     "data": {
      "text/plain": "7"
     },
     "execution_count": 187,
     "metadata": {},
     "output_type": "execute_result"
    }
   ],
   "source": [
    "adder.add()"
   ],
   "metadata": {
    "collapsed": false,
    "pycharm": {
     "name": "#%%\n"
    }
   }
  },
  {
   "cell_type": "code",
   "execution_count": 188,
   "outputs": [
    {
     "data": {
      "text/plain": "'frogcoyote'"
     },
     "execution_count": 188,
     "metadata": {},
     "output_type": "execute_result"
    }
   ],
   "source": [
    "adder2 = Adder('frog', 'coyote')\n",
    "adder2.add()"
   ],
   "metadata": {
    "collapsed": false,
    "pycharm": {
     "name": "#%%\n"
    }
   }
  },
  {
   "cell_type": "code",
   "execution_count": 189,
   "outputs": [
    {
     "name": "stdout",
     "output_type": "stream",
     "text": [
      "\u001B[31mERROR: Could not find a version that satisfies the requirement sys (from versions: none)\u001B[0m\r\n",
      "\u001B[31mERROR: No matching distribution found for sys\u001B[0m\r\n"
     ]
    }
   ],
   "source": [
    "!pip3 install sys\n",
    "\n",
    "import sys\n",
    "sys.path.append('/absolute/path/to/module.py')"
   ],
   "metadata": {
    "collapsed": false,
    "pycharm": {
     "name": "#%%\n"
    }
   }
  },
  {
   "cell_type": "code",
   "execution_count": 190,
   "outputs": [
    {
     "name": "stdout",
     "output_type": "stream",
     "text": [
      "Requirement already satisfied: python_marketing_research in /Users/vanessawilson/sbox/test/Springer_Python_Marketing_Analytics/lib/python3.9/site-packages (0.9.4)\r\n"
     ]
    },
    {
     "data": {
      "text/plain": "7"
     },
     "execution_count": 190,
     "metadata": {},
     "output_type": "execute_result"
    }
   ],
   "source": [
    "# Section 2.4.9\n",
    "!pip3 install python_marketing_research\n",
    "\n",
    "from python_marketing_research_functions import chapter2\n",
    "chapter2.add(3, 4)"
   ],
   "metadata": {
    "collapsed": false,
    "pycharm": {
     "name": "#%%\n"
    }
   }
  },
  {
   "cell_type": "code",
   "execution_count": 191,
   "outputs": [
    {
     "name": "stdout",
     "output_type": "stream",
     "text": [
      "x = 5, which is greater than 2\n",
      "Done!\n"
     ]
    }
   ],
   "source": [
    "# Section 2.4.10 Control Flow Statements\n",
    "x = 5\n",
    "if x > 2:\n",
    "    print('x = {}, which is greater than 2'.format(x))\n",
    "print('Done!')"
   ],
   "metadata": {
    "collapsed": false,
    "pycharm": {
     "name": "#%%\n"
    }
   }
  },
  {
   "cell_type": "code",
   "execution_count": 192,
   "outputs": [
    {
     "name": "stdout",
     "output_type": "stream",
     "text": [
      "Done!\n"
     ]
    }
   ],
   "source": [
    "x = 0\n",
    "if x > 2:\n",
    "    print('x = {}, which is greater than 2'.format(x))\n",
    "print('Done!')"
   ],
   "metadata": {
    "collapsed": false,
    "pycharm": {
     "name": "#%%\n"
    }
   }
  },
  {
   "cell_type": "code",
   "execution_count": 193,
   "outputs": [
    {
     "name": "stdout",
     "output_type": "stream",
     "text": [
      "x = 0, which is less than or equal to 2\n"
     ]
    }
   ],
   "source": [
    "x = 0\n",
    "if x > 2:\n",
    "    print('x = {}, which is greater than 2'.format(x))\n",
    "else:\n",
    "    print('x = {}, which is less than or equal to 2'.format(x))"
   ],
   "metadata": {
    "collapsed": false,
    "pycharm": {
     "name": "#%%\n"
    }
   }
  },
  {
   "cell_type": "code",
   "execution_count": 194,
   "outputs": [
    {
     "name": "stdout",
     "output_type": "stream",
     "text": [
      "x = 2, which equals 2!\n"
     ]
    }
   ],
   "source": [
    "x = 2\n",
    "if x > 2:\n",
    "    print(\"x = {}, which is greater than 2\".format(x))\n",
    "elif x == 2:\n",
    "    print(\"x = {}, which equals 2!\".format(x))\n",
    "else:\n",
    "    print(\"x = {}, which is less than 2\".format(x))"
   ],
   "metadata": {
    "collapsed": false,
    "pycharm": {
     "name": "#%%\n"
    }
   }
  },
  {
   "cell_type": "code",
   "execution_count": 195,
   "outputs": [
    {
     "name": "stdout",
     "output_type": "stream",
     "text": [
      "38 was NOT found in the values\n",
      "12 was found in the values\n"
     ]
    }
   ],
   "source": [
    "def check_present(value, values):\n",
    "    \"\"\"method to asertain value or values from input\"\"\"\n",
    "    if value in values:\n",
    "        print(\"{} was found in the values\".format(value))\n",
    "    else:\n",
    "        print(\"{} was NOT found in the values\".format(value))\n",
    "\n",
    "a = set([4, 2, 5, 1, 12, 33])\n",
    "check_present(38, a)\n",
    "check_present(12, a)"
   ],
   "metadata": {
    "collapsed": false,
    "pycharm": {
     "name": "#%%\n"
    }
   }
  },
  {
   "cell_type": "code",
   "execution_count": 196,
   "outputs": [
    {
     "name": "stdout",
     "output_type": "stream",
     "text": [
      "0\n",
      "1\n",
      "2\n",
      "3\n",
      "4\n"
     ]
    }
   ],
   "source": [
    "x = 0\n",
    "while x < 5:\n",
    "    print(x)\n",
    "    x += 1"
   ],
   "metadata": {
    "collapsed": false,
    "pycharm": {
     "name": "#%%\n"
    }
   }
  },
  {
   "cell_type": "code",
   "execution_count": 197,
   "outputs": [
    {
     "name": "stdout",
     "output_type": "stream",
     "text": [
      "a_squared generated: [16]\n",
      "a_squared generated: [16, 4]\n",
      "a_squared generated: [16, 4, 25]\n",
      "a_squared generated: [16, 4, 25, 1]\n",
      "a_squared generated: [16, 4, 25, 1, 144]\n",
      "a_squared generated: [16, 4, 25, 1, 144, 1089]\n"
     ]
    }
   ],
   "source": [
    "a = [4, 2, 5, 1 ,12, 33]\n",
    "a_squared = []\n",
    "i = 0\n",
    "while i < len(a):\n",
    "    a_squared.append(a[i]**2)\n",
    "    i += 1\n",
    "    print(\"a_squared generated: {}\".format(a_squared))"
   ],
   "metadata": {
    "collapsed": false,
    "pycharm": {
     "name": "#%%\n"
    }
   }
  },
  {
   "cell_type": "code",
   "execution_count": 198,
   "outputs": [
    {
     "name": "stdout",
     "output_type": "stream",
     "text": [
      "a_squared generated: [16, 4, 25, 1, 144, 1089]\n"
     ]
    }
   ],
   "source": [
    "a = [4, 2, 5, 1, 12, 33]\n",
    "a_squared = []\n",
    "for x in a:\n",
    "    a_squared.append(x**2)\n",
    "print(\"a_squared generated: {}\".format(a_squared))"
   ],
   "metadata": {
    "collapsed": false,
    "pycharm": {
     "name": "#%%\n"
    }
   }
  },
  {
   "cell_type": "code",
   "execution_count": 199,
   "outputs": [
    {
     "name": "stdout",
     "output_type": "stream",
     "text": [
      "0\n",
      "1\n",
      "2\n",
      "3\n",
      "4\n"
     ]
    }
   ],
   "source": [
    "for i in range(5):\n",
    "    print(i)"
   ],
   "metadata": {
    "collapsed": false,
    "pycharm": {
     "name": "#%%\n"
    }
   }
  },
  {
   "cell_type": "code",
   "execution_count": 200,
   "outputs": [
    {
     "name": "stdout",
     "output_type": "stream",
     "text": [
      "a_squared generated: [16, 4, 25, 1, 144, 1089]\n"
     ]
    }
   ],
   "source": [
    "a_squared = []\n",
    "for i in range(len(a)):\n",
    "    a_squared.append(a[i]**2)\n",
    "print(\"a_squared generated: {}\".format(a_squared))"
   ],
   "metadata": {
    "collapsed": false,
    "pycharm": {
     "name": "#%%\n"
    }
   }
  },
  {
   "cell_type": "code",
   "execution_count": 201,
   "outputs": [
    {
     "name": "stdout",
     "output_type": "stream",
     "text": [
      "21\n",
      "33\n",
      "45\n",
      "57\n",
      "69\n",
      "81\n",
      "93\n"
     ]
    }
   ],
   "source": [
    "for i in range(21, 100, 12):\n",
    "    print(i)"
   ],
   "metadata": {
    "collapsed": false,
    "pycharm": {
     "name": "#%%\n"
    }
   }
  },
  {
   "cell_type": "code",
   "execution_count": 202,
   "outputs": [
    {
     "name": "stdout",
     "output_type": "stream",
     "text": [
      "0 6\n",
      "1 8\n",
      "2 10\n",
      "3 12\n",
      "4 14\n",
      "5 16\n"
     ]
    }
   ],
   "source": [
    "for x, y in zip(range(6), range(6, 18, 2)):\n",
    "    print(x, y)"
   ],
   "metadata": {
    "collapsed": false,
    "pycharm": {
     "name": "#%%\n"
    }
   }
  },
  {
   "cell_type": "code",
   "execution_count": 203,
   "outputs": [
    {
     "name": "stdout",
     "output_type": "stream",
     "text": [
      "0 6\n",
      "1 8\n",
      "2 10\n"
     ]
    }
   ],
   "source": [
    "for j, k in zip(range(6), range(6, 12, 2)):\n",
    "    print(j, k)"
   ],
   "metadata": {
    "collapsed": false,
    "pycharm": {
     "name": "#%%\n"
    }
   }
  },
  {
   "cell_type": "code",
   "execution_count": 204,
   "outputs": [
    {
     "name": "stdout",
     "output_type": "stream",
     "text": [
      "0 4\n",
      "1 2\n",
      "2 5\n",
      "3 1\n",
      "4 12\n",
      "5 33\n"
     ]
    }
   ],
   "source": [
    "for i, x in enumerate(a):\n",
    "    print(i, x)"
   ],
   "metadata": {
    "collapsed": false,
    "pycharm": {
     "name": "#%%\n"
    }
   }
  },
  {
   "cell_type": "code",
   "execution_count": 205,
   "outputs": [
    {
     "name": "stdout",
     "output_type": "stream",
     "text": [
      "17 is the largest factor of 34,\n",
      "2.0 times 17 equals 34\n"
     ]
    }
   ],
   "source": [
    "x = 34\n",
    "y = x-1\n",
    "while True:\n",
    "    if x % y == 0:\n",
    "        break\n",
    "    y -= 1\n",
    "print('{y} is the largest factor of {x},\\n{f2} times {y} equals {x}'\n",
    "      .format(y=y, x=x, f2=x/y))"
   ],
   "metadata": {
    "collapsed": false,
    "pycharm": {
     "name": "#%%\n"
    }
   }
  },
  {
   "cell_type": "code",
   "execution_count": 206,
   "outputs": [
    {
     "data": {
      "text/plain": "[5, 3, 6, 2, 13, 34]"
     },
     "execution_count": 206,
     "metadata": {},
     "output_type": "execute_result"
    }
   ],
   "source": [
    "a = [4, 2, 5, 1 ,12, 33]\n",
    "a_plus_one = [x + 1 for x in a]\n",
    "a_plus_one"
   ],
   "metadata": {
    "collapsed": false,
    "pycharm": {
     "name": "#%%\n"
    }
   }
  },
  {
   "cell_type": "code",
   "execution_count": 207,
   "outputs": [
    {
     "data": {
      "text/plain": "[5, 3, 6, 2]"
     },
     "execution_count": 207,
     "metadata": {},
     "output_type": "execute_result"
    }
   ],
   "source": [
    "a_plus_one_filtered = [x + 1 for x in a if x < 12]\n",
    "a_plus_one_filtered"
   ],
   "metadata": {
    "collapsed": false,
    "pycharm": {
     "name": "#%%\n"
    }
   }
  },
  {
   "cell_type": "code",
   "execution_count": 208,
   "outputs": [
    {
     "data": {
      "text/plain": "[5, 3, 6, 2, 1200, 3300]"
     },
     "execution_count": 208,
     "metadata": {},
     "output_type": "execute_result"
    }
   ],
   "source": [
    "a_modified = [x + 1 if x < 12 else x * 100 for x in a]\n",
    "a_modified"
   ],
   "metadata": {
    "collapsed": false,
    "pycharm": {
     "name": "#%%\n"
    }
   }
  },
  {
   "cell_type": "code",
   "execution_count": 209,
   "outputs": [
    {
     "data": {
      "text/plain": "[(4, 16), (2, 4), (5, 25), (1, 1), (12, 144), (33, 1089)]"
     },
     "execution_count": 209,
     "metadata": {},
     "output_type": "execute_result"
    }
   ],
   "source": [
    "a_squared_tupes = [(v, v**2) for v in a]\n",
    "a_squared_tupes"
   ],
   "metadata": {
    "collapsed": false,
    "pycharm": {
     "name": "#%%\n"
    }
   }
  },
  {
   "cell_type": "code",
   "execution_count": 210,
   "outputs": [
    {
     "data": {
      "text/plain": "[4.0, 2.0, 5.0, 1.0, 12.0, 33.0]"
     },
     "execution_count": 210,
     "metadata": {},
     "output_type": "execute_result"
    }
   ],
   "source": [
    "a_reconstructed = [w/v for v, w in a_squared_tupes]\n",
    "a_reconstructed"
   ],
   "metadata": {
    "collapsed": false,
    "pycharm": {
     "name": "#%%\n"
    }
   }
  },
  {
   "cell_type": "code",
   "execution_count": 211,
   "outputs": [
    {
     "name": "stdout",
     "output_type": "stream",
     "text": [
      "Help on class range in module builtins:\n",
      "\n",
      "class range(object)\n",
      " |  range(stop) -> range object\n",
      " |  range(start, stop[, step]) -> range object\n",
      " |  \n",
      " |  Return an object that produces a sequence of integers from start (inclusive)\n",
      " |  to stop (exclusive) by step.  range(i, j) produces i, i+1, i+2, ..., j-1.\n",
      " |  start defaults to 0, and stop is omitted!  range(4) produces 0, 1, 2, 3.\n",
      " |  These are exactly the valid indices for a list of 4 elements.\n",
      " |  When step is given, it specifies the increment (or decrement).\n",
      " |  \n",
      " |  Methods defined here:\n",
      " |  \n",
      " |  __bool__(self, /)\n",
      " |      self != 0\n",
      " |  \n",
      " |  __contains__(self, key, /)\n",
      " |      Return key in self.\n",
      " |  \n",
      " |  __eq__(self, value, /)\n",
      " |      Return self==value.\n",
      " |  \n",
      " |  __ge__(self, value, /)\n",
      " |      Return self>=value.\n",
      " |  \n",
      " |  __getattribute__(self, name, /)\n",
      " |      Return getattr(self, name).\n",
      " |  \n",
      " |  __getitem__(self, key, /)\n",
      " |      Return self[key].\n",
      " |  \n",
      " |  __gt__(self, value, /)\n",
      " |      Return self>value.\n",
      " |  \n",
      " |  __hash__(self, /)\n",
      " |      Return hash(self).\n",
      " |  \n",
      " |  __iter__(self, /)\n",
      " |      Implement iter(self).\n",
      " |  \n",
      " |  __le__(self, value, /)\n",
      " |      Return self<=value.\n",
      " |  \n",
      " |  __len__(self, /)\n",
      " |      Return len(self).\n",
      " |  \n",
      " |  __lt__(self, value, /)\n",
      " |      Return self<value.\n",
      " |  \n",
      " |  __ne__(self, value, /)\n",
      " |      Return self!=value.\n",
      " |  \n",
      " |  __reduce__(...)\n",
      " |      Helper for pickle.\n",
      " |  \n",
      " |  __repr__(self, /)\n",
      " |      Return repr(self).\n",
      " |  \n",
      " |  __reversed__(...)\n",
      " |      Return a reverse iterator.\n",
      " |  \n",
      " |  count(...)\n",
      " |      rangeobject.count(value) -> integer -- return number of occurrences of value\n",
      " |  \n",
      " |  index(...)\n",
      " |      rangeobject.index(value) -> integer -- return index of value.\n",
      " |      Raise ValueError if the value is not present.\n",
      " |  \n",
      " |  ----------------------------------------------------------------------\n",
      " |  Static methods defined here:\n",
      " |  \n",
      " |  __new__(*args, **kwargs) from builtins.type\n",
      " |      Create and return a new object.  See help(type) for accurate signature.\n",
      " |  \n",
      " |  ----------------------------------------------------------------------\n",
      " |  Data descriptors defined here:\n",
      " |  \n",
      " |  start\n",
      " |  \n",
      " |  step\n",
      " |  \n",
      " |  stop\n",
      "\n"
     ]
    }
   ],
   "source": [
    "# Section 2.4.11 Help! a Brief Detour\n",
    "help(range)"
   ],
   "metadata": {
    "collapsed": false,
    "pycharm": {
     "name": "#%%\n"
    }
   }
  },
  {
   "cell_type": "code",
   "execution_count": 212,
   "outputs": [
    {
     "name": "stdout",
     "output_type": "stream",
     "text": [
      "Help on class Adder in module __main__:\n",
      "\n",
      "class Adder(builtins.object)\n",
      " |  Adder(a, b)\n",
      " |  \n",
      " |  A class that adds its parameters\n",
      " |  \n",
      " |  Methods defined here:\n",
      " |  \n",
      " |  __init__(self, a, b)\n",
      " |      Initialize self.  See help(type(self)) for accurate signature.\n",
      " |  \n",
      " |  add(self)\n",
      " |  \n",
      " |  ----------------------------------------------------------------------\n",
      " |  Data descriptors defined here:\n",
      " |  \n",
      " |  __dict__\n",
      " |      dictionary for instance variables (if defined)\n",
      " |  \n",
      " |  __weakref__\n",
      " |      list of weak references to the object (if defined)\n",
      "\n"
     ]
    }
   ],
   "source": [
    "help(Adder)"
   ],
   "metadata": {
    "collapsed": false,
    "pycharm": {
     "name": "#%%\n"
    }
   }
  },
  {
   "cell_type": "code",
   "execution_count": 213,
   "outputs": [],
   "source": [
    "# Data Science Packages\n"
   ],
   "metadata": {
    "collapsed": false,
    "pycharm": {
     "name": "#%%\n"
    }
   }
  },
  {
   "cell_type": "code",
   "execution_count": 214,
   "outputs": [
    {
     "name": "stdout",
     "output_type": "stream",
     "text": [
      "Requirement already satisfied: numpy in /Users/vanessawilson/sbox/test/Springer_Python_Marketing_Analytics/lib/python3.9/site-packages (1.21.3)\r\n"
     ]
    }
   ],
   "source": [
    "# Numpy\n",
    "!pip3 install numpy\n",
    "import numpy as np"
   ],
   "metadata": {
    "collapsed": false,
    "pycharm": {
     "name": "#%%\n"
    }
   }
  },
  {
   "cell_type": "code",
   "execution_count": 216,
   "outputs": [
    {
     "name": "stdout",
     "output_type": "stream",
     "text": [
      "[1 3 4]\n",
      "int64\n"
     ]
    }
   ],
   "source": [
    "x = np.array([1, 3, 4])\n",
    "print(x)\n",
    "print(x.dtype)"
   ],
   "metadata": {
    "collapsed": false,
    "pycharm": {
     "name": "#%%\n"
    }
   }
  },
  {
   "cell_type": "code",
   "execution_count": 217,
   "outputs": [
    {
     "name": "stdout",
     "output_type": "stream",
     "text": [
      "['1' '3' '4' 'a' 'b']\n",
      "<U21\n"
     ]
    }
   ],
   "source": [
    "x = np. array([1, 3, 4, 'a', 'b'])\n",
    "print(x)\n",
    "print(x.dtype)"
   ],
   "metadata": {
    "collapsed": false,
    "pycharm": {
     "name": "#%%\n"
    }
   }
  },
  {
   "cell_type": "code",
   "execution_count": 218,
   "outputs": [
    {
     "data": {
      "text/plain": "[7, 4, 2]"
     },
     "execution_count": 218,
     "metadata": {},
     "output_type": "execute_result"
    }
   ],
   "source": [
    "a = [7, 4, 2, 22, 12]\n",
    "a[:3]"
   ],
   "metadata": {
    "collapsed": false,
    "pycharm": {
     "name": "#%%\n"
    }
   }
  },
  {
   "cell_type": "code",
   "execution_count": 219,
   "outputs": [
    {
     "data": {
      "text/plain": "array([7, 4, 2])"
     },
     "execution_count": 219,
     "metadata": {},
     "output_type": "execute_result"
    }
   ],
   "source": [
    "x = np.array(a)\n",
    "x[:3]"
   ],
   "metadata": {
    "collapsed": false,
    "pycharm": {
     "name": "#%%\n"
    }
   }
  },
  {
   "cell_type": "code",
   "execution_count": 220,
   "outputs": [
    {
     "data": {
      "text/plain": "array([ 7, 22])"
     },
     "execution_count": 220,
     "metadata": {},
     "output_type": "execute_result"
    }
   ],
   "source": [
    "x[[0, 3]]"
   ],
   "metadata": {
    "collapsed": false,
    "pycharm": {
     "name": "#%%\n"
    }
   }
  },
  {
   "cell_type": "code",
   "execution_count": 221,
   "outputs": [
    {
     "data": {
      "text/plain": "array([ 7, 22])"
     },
     "execution_count": 221,
     "metadata": {},
     "output_type": "execute_result"
    }
   ],
   "source": [
    "x[[True, False, False, True, False]]"
   ],
   "metadata": {
    "collapsed": false,
    "pycharm": {
     "name": "#%%\n"
    }
   }
  },
  {
   "cell_type": "code",
   "execution_count": 222,
   "outputs": [
    {
     "data": {
      "text/plain": "array([          0, -1073741824,   334718354, -2147481605,   334692354],\n      dtype=int32)"
     },
     "execution_count": 222,
     "metadata": {},
     "output_type": "execute_result"
    }
   ],
   "source": [
    "x = np.empty(shape=5, dtype=np.int32)\n",
    "x"
   ],
   "metadata": {
    "collapsed": false,
    "pycharm": {
     "name": "#%%\n"
    }
   }
  },
  {
   "cell_type": "code",
   "execution_count": 224,
   "outputs": [
    {
     "data": {
      "text/plain": "array([0., 0., 0., 0., 0.])"
     },
     "execution_count": 224,
     "metadata": {},
     "output_type": "execute_result"
    }
   ],
   "source": [
    "x = np.zeros(shape=5)\n",
    "x"
   ],
   "metadata": {
    "collapsed": false,
    "pycharm": {
     "name": "#%%\n"
    }
   }
  },
  {
   "cell_type": "code",
   "execution_count": 225,
   "outputs": [
    {
     "data": {
      "text/plain": "[49, 16, 4, 484, 144]"
     },
     "execution_count": 225,
     "metadata": {},
     "output_type": "execute_result"
    }
   ],
   "source": [
    "# Vectorized Operations\n",
    "a = [7, 4, 2, 22, -12]\n",
    "a_squared = []\n",
    "for v in a:\n",
    "    a_squared.append(v**2)\n",
    "a_squared"
   ],
   "metadata": {
    "collapsed": false,
    "pycharm": {
     "name": "#%%\n"
    }
   }
  }
 ],
 "metadata": {
  "kernelspec": {
   "display_name": "Python 3",
   "language": "python",
   "name": "python3"
  },
  "language_info": {
   "codemirror_mode": {
    "name": "ipython",
    "version": 2
   },
   "file_extension": ".py",
   "mimetype": "text/x-python",
   "name": "python",
   "nbconvert_exporter": "python",
   "pygments_lexer": "ipython2",
   "version": "2.7.6"
  }
 },
 "nbformat": 4,
 "nbformat_minor": 0
}