{
 "cells": [
  {
   "cell_type": "code",
   "execution_count": 26,
   "metadata": {
    "collapsed": true
   },
   "outputs": [
    {
     "name": "stdout",
     "output_type": "stream",
     "text": [
      "Requirement already satisfied: pandas in /Users/vanessawilson/sbox/test/Springer_Python_Marketing_Analytics/lib/python3.9/site-packages (1.3.4)\r\n",
      "Requirement already satisfied: pytz>=2017.3 in /Users/vanessawilson/sbox/test/Springer_Python_Marketing_Analytics/lib/python3.9/site-packages (from pandas) (2021.3)\r\n",
      "Requirement already satisfied: numpy>=1.17.3 in /Users/vanessawilson/sbox/test/Springer_Python_Marketing_Analytics/lib/python3.9/site-packages (from pandas) (1.21.3)\r\n",
      "Requirement already satisfied: python-dateutil>=2.7.3 in /Users/vanessawilson/sbox/test/Springer_Python_Marketing_Analytics/lib/python3.9/site-packages (from pandas) (2.8.2)\r\n",
      "Requirement already satisfied: six>=1.5 in /Users/vanessawilson/sbox/test/Springer_Python_Marketing_Analytics/lib/python3.9/site-packages (from python-dateutil>=2.7.3->pandas) (1.16.0)\r\n"
     ]
    },
    {
     "data": {
      "text/plain": "   iProdSAT  iSalesSAT Segment  iProdREC  iSalesREC\n0         6          2       1         4          3\n1         4          5       3         4          4\n2         5          3       4         5          4\n3         3          3       2         4          4\n4         3          3       3         2          2",
      "text/html": "<div>\n<style scoped>\n    .dataframe tbody tr th:only-of-type {\n        vertical-align: middle;\n    }\n\n    .dataframe tbody tr th {\n        vertical-align: top;\n    }\n\n    .dataframe thead th {\n        text-align: right;\n    }\n</style>\n<table border=\"1\" class=\"dataframe\">\n  <thead>\n    <tr style=\"text-align: right;\">\n      <th></th>\n      <th>iProdSAT</th>\n      <th>iSalesSAT</th>\n      <th>Segment</th>\n      <th>iProdREC</th>\n      <th>iSalesREC</th>\n    </tr>\n  </thead>\n  <tbody>\n    <tr>\n      <th>0</th>\n      <td>6</td>\n      <td>2</td>\n      <td>1</td>\n      <td>4</td>\n      <td>3</td>\n    </tr>\n    <tr>\n      <th>1</th>\n      <td>4</td>\n      <td>5</td>\n      <td>3</td>\n      <td>4</td>\n      <td>4</td>\n    </tr>\n    <tr>\n      <th>2</th>\n      <td>5</td>\n      <td>3</td>\n      <td>4</td>\n      <td>5</td>\n      <td>4</td>\n    </tr>\n    <tr>\n      <th>3</th>\n      <td>3</td>\n      <td>3</td>\n      <td>2</td>\n      <td>4</td>\n      <td>4</td>\n    </tr>\n    <tr>\n      <th>4</th>\n      <td>3</td>\n      <td>3</td>\n      <td>3</td>\n      <td>2</td>\n      <td>2</td>\n    </tr>\n  </tbody>\n</table>\n</div>"
     },
     "execution_count": 26,
     "metadata": {},
     "output_type": "execute_result"
    }
   ],
   "source": [
    "!pip3 install pandas\n",
    "\n",
    "import pandas as pd\n",
    "sat_df = pd.read_csv('http://bit.ly/PMR-ch2')\n",
    "sat_df.Segment = sat_df.Segment.astype(pd.api.types.CategoricalDtype())\n",
    "\n",
    "sat_df.head()"
   ]
  },
  {
   "cell_type": "code",
   "execution_count": 27,
   "outputs": [
    {
     "data": {
      "text/plain": "         iProdSAT   iSalesSAT    iProdREC   iSalesREC\ncount  500.000000  500.000000  500.000000  500.000000\nmean     4.130000    3.802000    4.044000    3.444000\nstd      1.091551    1.159951    1.299786    1.205724\nmin      1.000000    1.000000    1.000000    1.000000\n25%      3.000000    3.000000    3.000000    3.000000\n50%      4.000000    4.000000    4.000000    3.000000\n75%      5.000000    5.000000    5.000000    4.000000\nmax      7.000000    7.000000    7.000000    7.000000",
      "text/html": "<div>\n<style scoped>\n    .dataframe tbody tr th:only-of-type {\n        vertical-align: middle;\n    }\n\n    .dataframe tbody tr th {\n        vertical-align: top;\n    }\n\n    .dataframe thead th {\n        text-align: right;\n    }\n</style>\n<table border=\"1\" class=\"dataframe\">\n  <thead>\n    <tr style=\"text-align: right;\">\n      <th></th>\n      <th>iProdSAT</th>\n      <th>iSalesSAT</th>\n      <th>iProdREC</th>\n      <th>iSalesREC</th>\n    </tr>\n  </thead>\n  <tbody>\n    <tr>\n      <th>count</th>\n      <td>500.000000</td>\n      <td>500.000000</td>\n      <td>500.000000</td>\n      <td>500.000000</td>\n    </tr>\n    <tr>\n      <th>mean</th>\n      <td>4.130000</td>\n      <td>3.802000</td>\n      <td>4.044000</td>\n      <td>3.444000</td>\n    </tr>\n    <tr>\n      <th>std</th>\n      <td>1.091551</td>\n      <td>1.159951</td>\n      <td>1.299786</td>\n      <td>1.205724</td>\n    </tr>\n    <tr>\n      <th>min</th>\n      <td>1.000000</td>\n      <td>1.000000</td>\n      <td>1.000000</td>\n      <td>1.000000</td>\n    </tr>\n    <tr>\n      <th>25%</th>\n      <td>3.000000</td>\n      <td>3.000000</td>\n      <td>3.000000</td>\n      <td>3.000000</td>\n    </tr>\n    <tr>\n      <th>50%</th>\n      <td>4.000000</td>\n      <td>4.000000</td>\n      <td>4.000000</td>\n      <td>3.000000</td>\n    </tr>\n    <tr>\n      <th>75%</th>\n      <td>5.000000</td>\n      <td>5.000000</td>\n      <td>5.000000</td>\n      <td>4.000000</td>\n    </tr>\n    <tr>\n      <th>max</th>\n      <td>7.000000</td>\n      <td>7.000000</td>\n      <td>7.000000</td>\n      <td>7.000000</td>\n    </tr>\n  </tbody>\n</table>\n</div>"
     },
     "execution_count": 27,
     "metadata": {},
     "output_type": "execute_result"
    }
   ],
   "source": [
    "sat_df.describe()"
   ],
   "metadata": {
    "collapsed": false,
    "pycharm": {
     "name": "#%%\n"
    }
   }
  },
  {
   "cell_type": "code",
   "execution_count": 28,
   "outputs": [
    {
     "name": "stdout",
     "output_type": "stream",
     "text": [
      "Requirement already satisfied: seaborn in /Users/vanessawilson/sbox/test/Springer_Python_Marketing_Analytics/lib/python3.9/site-packages (0.11.2)\r\n",
      "Requirement already satisfied: pandas>=0.23 in /Users/vanessawilson/sbox/test/Springer_Python_Marketing_Analytics/lib/python3.9/site-packages (from seaborn) (1.3.4)\r\n",
      "Requirement already satisfied: numpy>=1.15 in /Users/vanessawilson/sbox/test/Springer_Python_Marketing_Analytics/lib/python3.9/site-packages (from seaborn) (1.21.3)\r\n",
      "Requirement already satisfied: scipy>=1.0 in /Users/vanessawilson/sbox/test/Springer_Python_Marketing_Analytics/lib/python3.9/site-packages (from seaborn) (1.7.1)\r\n",
      "Requirement already satisfied: matplotlib>=2.2 in /Users/vanessawilson/sbox/test/Springer_Python_Marketing_Analytics/lib/python3.9/site-packages (from seaborn) (3.4.3)\r\n",
      "Requirement already satisfied: pyparsing>=2.2.1 in /Users/vanessawilson/sbox/test/Springer_Python_Marketing_Analytics/lib/python3.9/site-packages (from matplotlib>=2.2->seaborn) (3.0.3)\r\n",
      "Requirement already satisfied: kiwisolver>=1.0.1 in /Users/vanessawilson/sbox/test/Springer_Python_Marketing_Analytics/lib/python3.9/site-packages (from matplotlib>=2.2->seaborn) (1.3.2)\r\n",
      "Requirement already satisfied: python-dateutil>=2.7 in /Users/vanessawilson/sbox/test/Springer_Python_Marketing_Analytics/lib/python3.9/site-packages (from matplotlib>=2.2->seaborn) (2.8.2)\r\n",
      "Requirement already satisfied: pillow>=6.2.0 in /Users/vanessawilson/sbox/test/Springer_Python_Marketing_Analytics/lib/python3.9/site-packages (from matplotlib>=2.2->seaborn) (8.4.0)\r\n",
      "Requirement already satisfied: cycler>=0.10 in /Users/vanessawilson/sbox/test/Springer_Python_Marketing_Analytics/lib/python3.9/site-packages (from matplotlib>=2.2->seaborn) (0.10.0)\r\n",
      "Requirement already satisfied: pytz>=2017.3 in /Users/vanessawilson/sbox/test/Springer_Python_Marketing_Analytics/lib/python3.9/site-packages (from pandas>=0.23->seaborn) (2021.3)\r\n",
      "Requirement already satisfied: six in /Users/vanessawilson/sbox/test/Springer_Python_Marketing_Analytics/lib/python3.9/site-packages (from cycler>=0.10->matplotlib>=2.2->seaborn) (1.16.0)\r\n"
     ]
    },
    {
     "data": {
      "text/plain": "<AxesSubplot:>"
     },
     "execution_count": 28,
     "metadata": {},
     "output_type": "execute_result"
    },
    {
     "data": {
      "text/plain": "<Figure size 432x288 with 2 Axes>",
      "image/png": "[encoded data removed]"
     },
     "metadata": {
      "needs_background": "light"
     },
     "output_type": "display_data"
    }
   ],
   "source": [
    "!pip3 install seaborn\n",
    "\n",
    "import seaborn as sns\n",
    "sns.heatmap(sat_df.corr())"
   ],
   "metadata": {
    "collapsed": false,
    "pycharm": {
     "name": "#%%\n"
    }
   }
  },
  {
   "cell_type": "code",
   "execution_count": 29,
   "outputs": [
    {
     "data": {
      "text/plain": "Segment\n1    3.462963\n2    3.725191\n3    4.103896\n4    4.708075\nName: iProdSAT, dtype: float64"
     },
     "execution_count": 29,
     "metadata": {},
     "output_type": "execute_result"
    }
   ],
   "source": [
    "sat_df.groupby('Segment').iProdSAT.mean()"
   ],
   "metadata": {
    "collapsed": false,
    "pycharm": {
     "name": "#%%\n"
    }
   }
  },
  {
   "cell_type": "code",
   "execution_count": 30,
   "outputs": [
    {
     "name": "stdout",
     "output_type": "stream",
     "text": [
      "Requirement already satisfied: statsmodels in /Users/vanessawilson/sbox/test/Springer_Python_Marketing_Analytics/lib/python3.9/site-packages (0.13.0)\r\n",
      "Requirement already satisfied: numpy>=1.17 in /Users/vanessawilson/sbox/test/Springer_Python_Marketing_Analytics/lib/python3.9/site-packages (from statsmodels) (1.21.3)\r\n",
      "Requirement already satisfied: pandas>=0.25 in /Users/vanessawilson/sbox/test/Springer_Python_Marketing_Analytics/lib/python3.9/site-packages (from statsmodels) (1.3.4)\r\n",
      "Requirement already satisfied: scipy>=1.3 in /Users/vanessawilson/sbox/test/Springer_Python_Marketing_Analytics/lib/python3.9/site-packages (from statsmodels) (1.7.1)\r\n",
      "Requirement already satisfied: patsy>=0.5.2 in /Users/vanessawilson/sbox/test/Springer_Python_Marketing_Analytics/lib/python3.9/site-packages (from statsmodels) (0.5.2)\r\n",
      "Requirement already satisfied: pytz>=2017.3 in /Users/vanessawilson/sbox/test/Springer_Python_Marketing_Analytics/lib/python3.9/site-packages (from pandas>=0.25->statsmodels) (2021.3)\r\n",
      "Requirement already satisfied: python-dateutil>=2.7.3 in /Users/vanessawilson/sbox/test/Springer_Python_Marketing_Analytics/lib/python3.9/site-packages (from pandas>=0.25->statsmodels) (2.8.2)\r\n",
      "Requirement already satisfied: six in /Users/vanessawilson/sbox/test/Springer_Python_Marketing_Analytics/lib/python3.9/site-packages (from patsy>=0.5.2->statsmodels) (1.16.0)\r\n"
     ]
    },
    {
     "data": {
      "text/plain": "             df       sum_sq      mean_sq           F         PR(>F)\nSegment     4.0  8627.850038  2156.962510  2160.66543  3.569726e-312\nResidual  496.0   495.149962     0.998286         NaN            NaN",
      "text/html": "<div>\n<style scoped>\n    .dataframe tbody tr th:only-of-type {\n        vertical-align: middle;\n    }\n\n    .dataframe tbody tr th {\n        vertical-align: top;\n    }\n\n    .dataframe thead th {\n        text-align: right;\n    }\n</style>\n<table border=\"1\" class=\"dataframe\">\n  <thead>\n    <tr style=\"text-align: right;\">\n      <th></th>\n      <th>df</th>\n      <th>sum_sq</th>\n      <th>mean_sq</th>\n      <th>F</th>\n      <th>PR(&gt;F)</th>\n    </tr>\n  </thead>\n  <tbody>\n    <tr>\n      <th>Segment</th>\n      <td>4.0</td>\n      <td>8627.850038</td>\n      <td>2156.962510</td>\n      <td>2160.66543</td>\n      <td>3.569726e-312</td>\n    </tr>\n    <tr>\n      <th>Residual</th>\n      <td>496.0</td>\n      <td>495.149962</td>\n      <td>0.998286</td>\n      <td>NaN</td>\n      <td>NaN</td>\n    </tr>\n  </tbody>\n</table>\n</div>"
     },
     "execution_count": 30,
     "metadata": {},
     "output_type": "execute_result"
    }
   ],
   "source": [
    "!pip3 install statsmodels\n",
    "\n",
    "import statsmodels.formula.api as smf\n",
    "from statsmodels.stats import anova as sms_anova\n",
    "\n",
    "segment_psat_lm = smf.ols('iProdSAT ~ -1 + Segment', data=sat_df).fit()\n",
    "sms_anova.anova_lm(segment_psat_lm)"
   ],
   "metadata": {
    "collapsed": false,
    "pycharm": {
     "name": "#%%\n"
    }
   }
  },
  {
   "cell_type": "code",
   "execution_count": 31,
   "outputs": [
    {
     "name": "stdout",
     "output_type": "stream",
     "text": [
      "\u001B[31mERROR: Could not find a version that satisfies the requirement pkg-config (from versions: none)\u001B[0m\r\n",
      "\u001B[31mERROR: No matching distribution found for pkg-config\u001B[0m\r\n",
      "Collecting matplotlib==2.2.2\r\n",
      "  Using cached matplotlib-2.2.2.tar.gz (37.3 MB)\r\n",
      "  Preparing metadata (setup.py) ... \u001B[?25l-\b \b\\\b \b|\b \b/\b \b-\b \b\\\b \berror\r\n",
      "\u001B[31m  ERROR: Command errored out with exit status 1:\r\n",
      "   command: /Users/vanessawilson/sbox/test/Springer_Python_Marketing_Analytics/bin/python -c 'import io, os, sys, setuptools, tokenize; sys.argv[0] = '\"'\"'/private/var/folders/m3/jsfh6v792_bg33tq9dyqyv200000gn/T/pip-install-_eb_jqkx/matplotlib_1099573a4b354c838adf76b18f73ef28/setup.py'\"'\"'; __file__='\"'\"'/private/var/folders/m3/jsfh6v792_bg33tq9dyqyv200000gn/T/pip-install-_eb_jqkx/matplotlib_1099573a4b354c838adf76b18f73ef28/setup.py'\"'\"';f = getattr(tokenize, '\"'\"'open'\"'\"', open)(__file__) if os.path.exists(__file__) else io.StringIO('\"'\"'from setuptools import setup; setup()'\"'\"');code = f.read().replace('\"'\"'\\r\\n'\"'\"', '\"'\"'\\n'\"'\"');f.close();exec(compile(code, __file__, '\"'\"'exec'\"'\"'))' egg_info --egg-base /private/var/folders/m3/jsfh6v792_bg33tq9dyqyv200000gn/T/pip-pip-egg-info-civkmfn_\r\n",
      "       cwd: /private/var/folders/m3/jsfh6v792_bg33tq9dyqyv200000gn/T/pip-install-_eb_jqkx/matplotlib_1099573a4b354c838adf76b18f73ef28/\r\n",
      "  Complete output (106 lines):\r\n",
      "  IMPORTANT WARNING:\r\n",
      "      pkg-config is not installed.\r\n",
      "      matplotlib may not be able to find some of its dependencies\r\n",
      "  ============================================================================\r\n",
      "  Edit setup.cfg to change the build options\r\n",
      "  \r\n",
      "  BUILDING MATPLOTLIB\r\n",
      "              matplotlib: yes [2.2.2]\r\n",
      "                  python: yes [3.9.5 (default, May  4 2021, 03:33:11)  [Clang\r\n",
      "                          12.0.0 (clang-1200.0.32.29)]]\r\n",
      "                platform: yes [darwin]\r\n",
      "  \r\n",
      "  REQUIRED DEPENDENCIES AND EXTENSIONS\r\n",
      "                   numpy: yes [version 1.21.3]\r\n",
      "        install_requires: yes [handled by setuptools]\r\n",
      "                  libagg: yes [pkg-config information for 'libagg' could not\r\n",
      "                          be found. Using local copy.]\r\n",
      "                freetype: no  [The C/C++ header for freetype2 (ft2build.h)\r\n",
      "                          could not be found.  You may need to install the\r\n",
      "                          development package.]\r\n",
      "                     png: yes [pkg-config information for 'libpng' could not\r\n",
      "                          be found. Using unknown version found on system.]\r\n",
      "                   qhull: yes [pkg-config information for 'libqhull' could not\r\n",
      "                          be found. Using local copy.]\r\n",
      "  \r\n",
      "  OPTIONAL SUBPACKAGES\r\n",
      "             sample_data: yes [installing]\r\n",
      "                toolkits: yes [installing]\r\n",
      "                   tests: no  [skipping due to configuration]\r\n",
      "          toolkits_tests: no  [skipping due to configuration]\r\n",
      "  \r\n",
      "  OPTIONAL BACKEND EXTENSIONS\r\n",
      "                  macosx: yes [installing, darwin]\r\n",
      "  IMPORTANT WARNING:\r\n",
      "      pkg-config is not installed.\r\n",
      "      matplotlib may not be able to find some of its dependencies\r\n",
      "  IMPORTANT WARNING:\r\n",
      "      pkg-config is not installed.\r\n",
      "      matplotlib may not be able to find some of its dependencies\r\n",
      "  IMPORTANT WARNING:\r\n",
      "      pkg-config is not installed.\r\n",
      "      matplotlib may not be able to find some of its dependencies\r\n",
      "  IMPORTANT WARNING:\r\n",
      "      pkg-config is not installed.\r\n",
      "      matplotlib may not be able to find some of its dependencies\r\n",
      "                  qt5agg: no  [PySide2 not found; PyQt5 not found]\r\n",
      "  IMPORTANT WARNING:\r\n",
      "      pkg-config is not installed.\r\n",
      "      matplotlib may not be able to find some of its dependencies\r\n",
      "  IMPORTANT WARNING:\r\n",
      "      pkg-config is not installed.\r\n",
      "      matplotlib may not be able to find some of its dependencies\r\n",
      "  IMPORTANT WARNING:\r\n",
      "      pkg-config is not installed.\r\n",
      "      matplotlib may not be able to find some of its dependencies\r\n",
      "  IMPORTANT WARNING:\r\n",
      "      pkg-config is not installed.\r\n",
      "      matplotlib may not be able to find some of its dependencies\r\n",
      "                  qt4agg: no  [PySide not found; PyQt4 not found]\r\n",
      "  IMPORTANT WARNING:\r\n",
      "      pkg-config is not installed.\r\n",
      "      matplotlib may not be able to find some of its dependencies\r\n",
      "  IMPORTANT WARNING:\r\n",
      "      pkg-config is not installed.\r\n",
      "      matplotlib may not be able to find some of its dependencies\r\n",
      "  IMPORTANT WARNING:\r\n",
      "      pkg-config is not installed.\r\n",
      "      matplotlib may not be able to find some of its dependencies\r\n",
      "  IMPORTANT WARNING:\r\n",
      "      pkg-config is not installed.\r\n",
      "      matplotlib may not be able to find some of its dependencies\r\n",
      "                 gtk3agg: no  [Requires pygobject to be installed.]\r\n",
      "  IMPORTANT WARNING:\r\n",
      "      pkg-config is not installed.\r\n",
      "      matplotlib may not be able to find some of its dependencies\r\n",
      "  IMPORTANT WARNING:\r\n",
      "      pkg-config is not installed.\r\n",
      "      matplotlib may not be able to find some of its dependencies\r\n",
      "  IMPORTANT WARNING:\r\n",
      "      pkg-config is not installed.\r\n",
      "      matplotlib may not be able to find some of its dependencies\r\n",
      "  IMPORTANT WARNING:\r\n",
      "      pkg-config is not installed.\r\n",
      "      matplotlib may not be able to find some of its dependencies\r\n",
      "               gtk3cairo: no  [Requires cairocffi or pycairo to be installed.]\r\n",
      "                  gtkagg: no  [Requires pygtk]\r\n",
      "                   tkagg: yes [installing; run-time loading from Python Tcl /\r\n",
      "                          Tk]\r\n",
      "                   wxagg: no  [requires wxPython]\r\n",
      "                     gtk: no  [Requires pygtk]\r\n",
      "                     agg: yes [installing]\r\n",
      "                   cairo: no  [cairocffi or pycairo not found]\r\n",
      "               windowing: no  [Microsoft Windows only]\r\n",
      "  \r\n",
      "  OPTIONAL LATEX DEPENDENCIES\r\n",
      "                  dvipng: no\r\n",
      "             ghostscript: no\r\n",
      "                   latex: no\r\n",
      "                 pdftops: no\r\n",
      "  \r\n",
      "  OPTIONAL PACKAGE DATA\r\n",
      "                    dlls: no  [skipping due to configuration]\r\n",
      "  \r\n",
      "  ============================================================================\r\n",
      "                          * The following required packages can not be built:\r\n",
      "                          * freetype\r\n",
      "  ----------------------------------------\u001B[0m\r\n",
      "\u001B[33mWARNING: Discarding https://files.pythonhosted.org/packages/ec/ed/46b835da53b7ed05bd4c6cae293f13ec26e877d2e490a53a709915a9dcb7/matplotlib-2.2.2.tar.gz#sha256=4dc7ef528aad21f22be85e95725234c5178c0f938e2228ca76640e5e84d8cde8 (from https://pypi.org/simple/matplotlib/). Command errored out with exit status 1: python setup.py egg_info Check the logs for full command output.\u001B[0m\r\n",
      "\u001B[31mERROR: Could not find a version that satisfies the requirement matplotlib==2.2.2 (from versions: 0.86, 0.86.1, 0.86.2, 0.91.0, 0.91.1, 1.0.1, 1.1.0, 1.1.1, 1.2.0, 1.2.1, 1.3.0, 1.3.1, 1.4.0, 1.4.1rc1, 1.4.1, 1.4.2, 1.4.3, 1.5.0, 1.5.1, 1.5.2, 1.5.3, 2.0.0b1, 2.0.0b2, 2.0.0b3, 2.0.0b4, 2.0.0rc1, 2.0.0rc2, 2.0.0, 2.0.1, 2.0.2, 2.1.0rc1, 2.1.0, 2.1.1, 2.1.2, 2.2.0rc1, 2.2.0, 2.2.2, 2.2.3, 2.2.4, 2.2.5, 3.0.0rc2, 3.0.0, 3.0.1, 3.0.2, 3.0.3, 3.1.0rc1, 3.1.0rc2, 3.1.0, 3.1.1, 3.1.2, 3.1.3, 3.2.0rc1, 3.2.0rc3, 3.2.0, 3.2.1, 3.2.2, 3.3.0rc1, 3.3.0, 3.3.1, 3.3.2, 3.3.3, 3.3.4, 3.4.0rc1, 3.4.0rc2, 3.4.0rc3, 3.4.0, 3.4.1, 3.4.2, 3.4.3, 3.5.0b1, 3.5.0rc1)\u001B[0m\r\n",
      "\u001B[31mERROR: No matching distribution found for matplotlib==2.2.2\u001B[0m\r\n",
      "\u001B[?25h"
     ]
    },
    {
     "data": {
      "text/plain": "<ErrorbarContainer object of 3 artists>"
     },
     "execution_count": 31,
     "metadata": {},
     "output_type": "execute_result"
    },
    {
     "data": {
      "text/plain": "<Figure size 432x288 with 1 Axes>",
      "image/png": "[encoded data removed]"
     },
     "metadata": {
      "needs_background": "light"
     },
     "output_type": "display_data"
    }
   ],
   "source": [
    "!pip3 install pkg-config\n",
    "!pip3 install matplotlib==2.2.2\n",
    "\n",
    "\n",
    "import matplotlib.pyplot as plt\n",
    "\n",
    "plt.errorbar(y=segment_psat_lm.params.index,\n",
    "             x=segment_psat_lm.params.values,\n",
    "             xerr=segment_psat_lm.conf_int()[1].T - segment_psat_lm.params,\n",
    "             fmt='ko')\n",
    "# TODO this generates an error <ErrorbarContainer object of 3 artists>"
   ],
   "metadata": {
    "collapsed": false,
    "pycharm": {
     "name": "#%%\n"
    }
   }
  },
  {
   "cell_type": "code",
   "execution_count": 32,
   "outputs": [
    {
     "name": "stdout",
     "output_type": "stream",
     "text": [
      "[1, 2, 3]\n"
     ]
    },
    {
     "ename": "NameError",
     "evalue": "name 'X' is not defined",
     "output_type": "error",
     "traceback": [
      "\u001B[0;31m---------------------------------------------------------------------------\u001B[0m",
      "\u001B[0;31mNameError\u001B[0m                                 Traceback (most recent call last)",
      "\u001B[0;32m/var/folders/m3/jsfh6v792_bg33tq9dyqyv200000gn/T/ipykernel_60261/378620610.py\u001B[0m in \u001B[0;36m<module>\u001B[0;34m\u001B[0m\n\u001B[1;32m      2\u001B[0m \u001B[0mprint\u001B[0m\u001B[0;34m(\u001B[0m\u001B[0mx\u001B[0m\u001B[0;34m)\u001B[0m\u001B[0;34m\u001B[0m\u001B[0;34m\u001B[0m\u001B[0m\n\u001B[1;32m      3\u001B[0m \u001B[0;34m\u001B[0m\u001B[0m\n\u001B[0;32m----> 4\u001B[0;31m \u001B[0mprint\u001B[0m\u001B[0;34m(\u001B[0m\u001B[0mX\u001B[0m\u001B[0;34m)\u001B[0m\u001B[0;34m\u001B[0m\u001B[0;34m\u001B[0m\u001B[0m\n\u001B[0m",
      "\u001B[0;31mNameError\u001B[0m: name 'X' is not defined"
     ]
    }
   ],
   "source": [
    "x = [1, 2, 3]\n",
    "print(x)\n",
    "\n",
    "# print(X) will give error not defined"
   ],
   "metadata": {
    "collapsed": false,
    "pycharm": {
     "name": "#%%\n"
    }
   }
  },
  {
   "cell_type": "code",
   "execution_count": null,
   "outputs": [],
   "source": [
    "x = [1, 23, 6]"
   ],
   "metadata": {
    "collapsed": false,
    "pycharm": {
     "name": "#%%\n"
    }
   }
  },
  {
   "cell_type": "code",
   "execution_count": null,
   "outputs": [],
   "source": [
    "1 == 1"
   ],
   "metadata": {
    "collapsed": false,
    "pycharm": {
     "name": "#%%\n"
    }
   }
  },
  {
   "cell_type": "code",
   "execution_count": null,
   "outputs": [],
   "source": [
    "1 < 2"
   ],
   "metadata": {
    "collapsed": false,
    "pycharm": {
     "name": "#%%\n"
    }
   }
  },
  {
   "cell_type": "code",
   "execution_count": null,
   "outputs": [],
   "source": [
    "1 == 2 # false"
   ],
   "metadata": {
    "collapsed": false,
    "pycharm": {
     "name": "#%%\n"
    }
   }
  },
  {
   "cell_type": "code",
   "execution_count": null,
   "outputs": [],
   "source": [
    "x = True\n",
    "y = False\n",
    "x or y"
   ],
   "metadata": {
    "collapsed": false,
    "pycharm": {
     "name": "#%%\n"
    }
   }
  },
  {
   "cell_type": "code",
   "execution_count": null,
   "outputs": [],
   "source": [
    "x"
   ],
   "metadata": {
    "collapsed": false,
    "pycharm": {
     "name": "#%%\n"
    }
   }
  },
  {
   "cell_type": "code",
   "execution_count": null,
   "outputs": [],
   "source": [
    "y"
   ],
   "metadata": {
    "collapsed": false,
    "pycharm": {
     "name": "#%%\n"
    }
   }
  },
  {
   "cell_type": "code",
   "execution_count": null,
   "outputs": [],
   "source": [
    "x and y"
   ],
   "metadata": {
    "collapsed": false,
    "pycharm": {
     "name": "#%%\n"
    }
   }
  },
  {
   "cell_type": "code",
   "execution_count": null,
   "outputs": [],
   "source": [
    "x and not y"
   ],
   "metadata": {
    "collapsed": false,
    "pycharm": {
     "name": "#%%\n"
    }
   }
  },
  {
   "cell_type": "code",
   "execution_count": null,
   "outputs": [],
   "source": [
    "x = 2\n",
    "y = 4\n",
    "x + y"
   ],
   "metadata": {
    "collapsed": false,
    "pycharm": {
     "name": "#%%\n"
    }
   }
  },
  {
   "cell_type": "code",
   "execution_count": null,
   "outputs": [],
   "source": [
    "w = x/y\n",
    "w"
   ],
   "metadata": {
    "collapsed": false,
    "pycharm": {
     "name": "#%%\n"
    }
   }
  },
  {
   "cell_type": "code",
   "execution_count": null,
   "outputs": [],
   "source": [
    "type(w)"
   ],
   "metadata": {
    "collapsed": false,
    "pycharm": {
     "name": "#%%\n"
    }
   }
  },
  {
   "cell_type": "code",
   "execution_count": null,
   "outputs": [],
   "source": [
    "x ** y"
   ],
   "metadata": {
    "collapsed": false,
    "pycharm": {
     "name": "#%%\n"
    }
   }
  },
  {
   "cell_type": "code",
   "execution_count": null,
   "outputs": [],
   "source": [
    "z = 3.2\n",
    "type(x * z)\n",
    "\n",
    "# 2.4.4 Sequence Types\n",
    "x = [0, 1, 2, 3, 4, 5]\n",
    "y = ['a', 'b', 'c']\n",
    "x + y"
   ],
   "metadata": {
    "collapsed": false,
    "pycharm": {
     "name": "#%%\n"
    }
   }
  },
  {
   "cell_type": "code",
   "execution_count": null,
   "outputs": [],
   "source": [
    "x.append('r')\n",
    "x"
   ],
   "metadata": {
    "collapsed": false,
    "pycharm": {
     "name": "#%%\n"
    }
   }
  },
  {
   "cell_type": "code",
   "execution_count": null,
   "outputs": [],
   "source": [
    "len(x)"
   ],
   "metadata": {
    "collapsed": false,
    "pycharm": {
     "name": "#%%\n"
    }
   }
  },
  {
   "cell_type": "code",
   "execution_count": null,
   "outputs": [],
   "source": [
    "x[1]"
   ],
   "metadata": {
    "collapsed": false,
    "pycharm": {
     "name": "#%%\n"
    }
   }
  },
  {
   "cell_type": "code",
   "execution_count": null,
   "outputs": [],
   "source": [
    "x[2:4]"
   ],
   "metadata": {
    "collapsed": false,
    "pycharm": {
     "name": "#%%\n"
    }
   }
  },
  {
   "cell_type": "code",
   "execution_count": null,
   "outputs": [],
   "source": [
    "x[2:4]"
   ],
   "metadata": {
    "collapsed": false,
    "pycharm": {
     "name": "#%%x\n"
    }
   }
  },
  {
   "cell_type": "code",
   "execution_count": null,
   "outputs": [],
   "source": [
    "x[:2]"
   ],
   "metadata": {
    "collapsed": false,
    "pycharm": {
     "name": "#%%\n"
    }
   }
  },
  {
   "cell_type": "code",
   "execution_count": null,
   "outputs": [],
   "source": [
    "x[1:]"
   ],
   "metadata": {
    "collapsed": false,
    "pycharm": {
     "name": "#%%\n"
    }
   }
  },
  {
   "cell_type": "code",
   "execution_count": null,
   "outputs": [],
   "source": [
    "x[-2:]"
   ],
   "metadata": {
    "collapsed": false,
    "pycharm": {
     "name": "#%%\n"
    }
   }
  },
  {
   "cell_type": "code",
   "execution_count": null,
   "outputs": [],
   "source": [
    "x[2] = 'freeze'\n",
    "x"
   ],
   "metadata": {
    "collapsed": false,
    "pycharm": {
     "name": "#%%\n"
    }
   }
  },
  {
   "cell_type": "code",
   "execution_count": null,
   "outputs": [],
   "source": [
    "z = (7, 8, 9)\n",
    "z[1]"
   ],
   "metadata": {
    "collapsed": false,
    "pycharm": {
     "name": "#%%\n"
    }
   }
  },
  {
   "cell_type": "code",
   "execution_count": null,
   "outputs": [],
   "source": [
    "z[1] = 'boil'\n",
    "# TypeError should result"
   ],
   "metadata": {
    "collapsed": false,
    "pycharm": {
     "name": "#%%\n"
    }
   }
  },
  {
   "cell_type": "code",
   "source": [
    "# Ranges\n",
    "range(10)"
   ],
   "metadata": {
    "collapsed": false,
    "pycharm": {
     "name": "#%%\n"
    }
   },
   "execution_count": null,
   "outputs": []
  },
  {
   "cell_type": "code",
   "execution_count": null,
   "outputs": [],
   "source": [
    "list(range(0, 10))"
   ],
   "metadata": {
    "collapsed": false,
    "pycharm": {
     "name": "#%%\n"
    }
   }
  },
  {
   "cell_type": "code",
   "execution_count": null,
   "outputs": [],
   "source": [
    "list(range[2, 12])"
   ],
   "metadata": {
    "collapsed": false,
    "pycharm": {
     "name": "#%%\n"
    }
   }
  },
  {
   "cell_type": "code",
   "execution_count": null,
   "outputs": [],
   "source": [
    "list(range(2, 12, 2))"
   ],
   "metadata": {
    "collapsed": false,
    "pycharm": {
     "name": "#%%\n"
    }
   }
  },
  {
   "cell_type": "code",
   "execution_count": null,
   "outputs": [],
   "source": [
    "# Section 2.4.5\n",
    "x = 'Hello'\n",
    "y = 'World'\n",
    "x+y"
   ],
   "metadata": {
    "collapsed": false,
    "pycharm": {
     "name": "#%%\n"
    }
   }
  },
  {
   "cell_type": "code",
   "execution_count": null,
   "outputs": [],
   "source": [
    "x[3:]"
   ],
   "metadata": {
    "collapsed": false,
    "pycharm": {
     "name": "#%%\n"
    }
   }
  },
  {
   "cell_type": "code",
   "execution_count": null,
   "outputs": [],
   "source": [
    "x.upper()"
   ],
   "metadata": {
    "collapsed": false,
    "pycharm": {
     "name": "#%%\n"
    }
   }
  },
  {
   "cell_type": "code",
   "execution_count": null,
   "outputs": [],
   "source": [
    "x.replace('lo', 'p')\n",
    "', '.join([x, y, 'what a day!'])"
   ],
   "metadata": {
    "collapsed": false,
    "pycharm": {
     "name": "#%%\n"
    }
   }
  },
  {
   "cell_type": "code",
   "execution_count": null,
   "outputs": [],
   "source": [
    "'Hello, World, what a day!'.split(',')"
   ],
   "metadata": {
    "collapsed": false,
    "pycharm": {
     "name": "#%%\n"
    }
   }
  },
  {
   "cell_type": "code",
   "execution_count": null,
   "outputs": [],
   "source": [
    "temperature = 21.34\n",
    "'The temperature today is {} degrees'.format(temperature)"
   ],
   "metadata": {
    "collapsed": false,
    "pycharm": {
     "name": "#%%\n"
    }
   }
  },
  {
   "cell_type": "code",
   "execution_count": 33,
   "outputs": [
    {
     "data": {
      "text/plain": "'18.93 divided by 345.234 equals 0.05483237456333965'"
     },
     "execution_count": 33,
     "metadata": {},
     "output_type": "execute_result"
    }
   ],
   "source": [
    "x = 18.93\n",
    "y = 345.234\n",
    "'{} divided by {} equals {}'                .format(x, y, x/y)"
   ],
   "metadata": {
    "collapsed": false,
    "pycharm": {
     "name": "#%%\n"
    }
   }
  },
  {
   "cell_type": "code",
   "execution_count": 34,
   "outputs": [
    {
     "data": {
      "text/plain": "'18.93 plus 18.93 plus 345.234 equals 383.094'"
     },
     "execution_count": 34,
     "metadata": {},
     "output_type": "execute_result"
    }
   ],
   "source": [
    "'{x} plus {x} plus {y} equals {r}'.format(x=x, y=y, r=x+x+y)"
   ],
   "metadata": {
    "collapsed": false,
    "pycharm": {
     "name": "#%%\n"
    }
   }
  },
  {
   "cell_type": "code",
   "execution_count": null,
   "outputs": [],
   "source": [
    "# Section 2.4.6\n",
    "x = [1, 1, 3, 8, 12, 12]\n",
    "set(x)"
   ],
   "metadata": {
    "collapsed": false,
    "pycharm": {
     "name": "#%%\n"
    }
   }
  },
  {
   "cell_type": "code",
   "execution_count": null,
   "outputs": [],
   "source": [
    "3 in x"
   ],
   "metadata": {
    "collapsed": false,
    "pycharm": {
     "name": "#%%\n"
    }
   }
  },
  {
   "cell_type": "code",
   "execution_count": null,
   "outputs": [],
   "source": [
    "5 in x"
   ],
   "metadata": {
    "collapsed": false,
    "pycharm": {
     "name": "#%%\n"
    }
   }
  },
  {
   "cell_type": "code",
   "execution_count": null,
   "outputs": [],
   "source": [
    "x = set([1, 1, 3, 8, 12, 12])\n",
    "y = set([2, 2, 8, 9])\n",
    "x.intersection(y)"
   ],
   "metadata": {
    "collapsed": false,
    "pycharm": {
     "name": "#%%\n"
    }
   }
  },
  {
   "cell_type": "code",
   "execution_count": null,
   "outputs": [],
   "source": [
    "y.difference(x)"
   ],
   "metadata": {
    "collapsed": false,
    "pycharm": {
     "name": "#%%\n"
    }
   }
  },
  {
   "cell_type": "code",
   "execution_count": null,
   "outputs": [],
   "source": [
    "x.union(y)"
   ],
   "metadata": {
    "collapsed": false,
    "pycharm": {
     "name": "#%%\n"
    }
   }
  },
  {
   "cell_type": "code",
   "execution_count": 35,
   "outputs": [
    {
     "data": {
      "text/plain": "{'a': 1, 'b': 2, 'c': 3}"
     },
     "execution_count": 35,
     "metadata": {},
     "output_type": "execute_result"
    }
   ],
   "source": [
    "# Section 2.4.7 Mapping Tree\n",
    "x = dict(a=1, b=2, c=3)\n",
    "x"
   ],
   "metadata": {
    "collapsed": false,
    "pycharm": {
     "name": "#%%\n"
    }
   }
  },
  {
   "cell_type": "code",
   "execution_count": null,
   "outputs": [],
   "source": [
    "x = {'a': 1, 'b': 2, 'c': 3}\n",
    "x"
   ],
   "metadata": {
    "collapsed": false,
    "pycharm": {
     "name": "#%%\n"
    }
   }
  },
  {
   "cell_type": "code",
   "execution_count": null,
   "outputs": [],
   "source": [
    "y= {'a': 1, 'b': 2, 'c': 3}\n",
    "y"
   ],
   "metadata": {
    "collapsed": false,
    "pycharm": {
     "name": "#%%\n"
    }
   }
  },
  {
   "cell_type": "code",
   "execution_count": null,
   "outputs": [],
   "source": [
    "x['a']"
   ],
   "metadata": {
    "collapsed": false,
    "pycharm": {
     "name": "#%%\n"
    }
   }
  },
  {
   "cell_type": "code",
   "execution_count": null,
   "outputs": [],
   "source": [
    "y.items()"
   ],
   "metadata": {
    "collapsed": false,
    "pycharm": {
     "name": "#%%\n"
    }
   }
  },
  {
   "cell_type": "code",
   "execution_count": null,
   "outputs": [],
   "source": [
    "y.keys()"
   ],
   "metadata": {
    "collapsed": false,
    "pycharm": {
     "name": "#%%\n"
    }
   }
  },
  {
   "cell_type": "code",
   "execution_count": null,
   "outputs": [],
   "source": [
    "y.values()"
   ],
   "metadata": {
    "collapsed": false,
    "pycharm": {
     "name": "#%%\n"
    }
   }
  },
  {
   "cell_type": "code",
   "execution_count": null,
   "outputs": [],
   "source": [
    "# Section 2.4.8 Functions, Classes, and Methods\n",
    "def add(a, b):\n",
    "    return a + b"
   ],
   "metadata": {
    "collapsed": false,
    "pycharm": {
     "name": "#%%\n"
    }
   }
  },
  {
   "cell_type": "code",
   "execution_count": null,
   "outputs": [],
   "source": [
    "add(3, 4)"
   ],
   "metadata": {
    "collapsed": false,
    "pycharm": {
     "name": "#%%\n"
    }
   }
  },
  {
   "cell_type": "code",
   "execution_count": null,
   "outputs": [],
   "source": [
    "add(a=3, b=4)"
   ],
   "metadata": {
    "collapsed": false,
    "pycharm": {
     "name": "#%%\n"
    }
   }
  },
  {
   "cell_type": "code",
   "execution_count": null,
   "outputs": [],
   "source": [
    "def add(a, b=0):\n",
    "    return a + b\n",
    "add(3)"
   ],
   "metadata": {
    "collapsed": false,
    "pycharm": {
     "name": "#%%\n"
    }
   }
  },
  {
   "cell_type": "code",
   "execution_count": null,
   "outputs": [],
   "source": [
    "add(3,4)"
   ],
   "metadata": {
    "collapsed": false,
    "pycharm": {
     "name": "#%%\n"
    }
   }
  },
  {
   "cell_type": "code",
   "execution_count": 42,
   "outputs": [],
   "source": [
    "class Adder:\n",
    "    '''A class that adds its parameters'''\n",
    "    def __init__(self, a, b):\n",
    "        self.x = a\n",
    "        self.y = b\n",
    "\n",
    "    def add(self):\n",
    "        return self.x + self.y"
   ],
   "metadata": {
    "collapsed": false,
    "pycharm": {
     "name": "#%%\n"
    }
   }
  },
  {
   "cell_type": "code",
   "execution_count": 44,
   "outputs": [
    {
     "data": {
      "text/plain": "<__main__.Adder at 0x126684d00>"
     },
     "execution_count": 44,
     "metadata": {},
     "output_type": "execute_result"
    }
   ],
   "source": [
    "adder = Adder(3, 4)\n",
    "adder"
   ],
   "metadata": {
    "collapsed": false,
    "pycharm": {
     "name": "#%%\n"
    }
   }
  },
  {
   "cell_type": "code",
   "execution_count": 45,
   "outputs": [
    {
     "data": {
      "text/plain": "3"
     },
     "execution_count": 45,
     "metadata": {},
     "output_type": "execute_result"
    }
   ],
   "source": [
    "adder.x"
   ],
   "metadata": {
    "collapsed": false,
    "pycharm": {
     "name": "#%%\n"
    }
   }
  },
  {
   "cell_type": "code",
   "execution_count": 46,
   "outputs": [
    {
     "data": {
      "text/plain": "7"
     },
     "execution_count": 46,
     "metadata": {},
     "output_type": "execute_result"
    }
   ],
   "source": [
    "adder.add()"
   ],
   "metadata": {
    "collapsed": false,
    "pycharm": {
     "name": "#%%\n"
    }
   }
  },
  {
   "cell_type": "code",
   "execution_count": 47,
   "outputs": [
    {
     "data": {
      "text/plain": "'frogcoyote'"
     },
     "execution_count": 47,
     "metadata": {},
     "output_type": "execute_result"
    }
   ],
   "source": [
    "adder2 = Adder('frog', 'coyote')\n",
    "adder2.add()"
   ],
   "metadata": {
    "collapsed": false,
    "pycharm": {
     "name": "#%%\n"
    }
   }
  },
  {
   "cell_type": "code",
   "execution_count": null,
   "outputs": [],
   "source": [
    "!pip3 install sys\n",
    "\n",
    "import sys\n",
    "sys.path.append('/absolute/path/to/module.py')"
   ],
   "metadata": {
    "collapsed": false,
    "pycharm": {
     "name": "#%%\n"
    }
   }
  },
  {
   "cell_type": "code",
   "execution_count": 48,
   "outputs": [
    {
     "data": {
      "text/plain": "7"
     },
     "execution_count": 48,
     "metadata": {},
     "output_type": "execute_result"
    }
   ],
   "source": [
    "# Section 2.4.9\n",
    "!pip3 install python_marketing_research\n",
    "\n",
    "from python_marketing_research_functions import chapter2\n",
    "chapter2.add(3, 4)"
   ],
   "metadata": {
    "collapsed": false,
    "pycharm": {
     "name": "#%%\n"
    }
   }
  },
  {
   "cell_type": "code",
   "execution_count": 49,
   "outputs": [
    {
     "name": "stdout",
     "output_type": "stream",
     "text": [
      "x = 5, which is greater than 2\n",
      "Done!\n"
     ]
    }
   ],
   "source": [
    "# Section 2.4.10 Control Flow Statements\n",
    "x = 5\n",
    "if x > 2:\n",
    "    print('x = {}, which is greater than 2'.format(x))\n",
    "print('Done!')"
   ],
   "metadata": {
    "collapsed": false,
    "pycharm": {
     "name": "#%%\n"
    }
   }
  },
  {
   "cell_type": "code",
   "execution_count": 50,
   "outputs": [
    {
     "name": "stdout",
     "output_type": "stream",
     "text": [
      "Done!\n"
     ]
    }
   ],
   "source": [
    "x = 0\n",
    "if x > 2:\n",
    "    print('x = {}, which is greater than 2'.format(x))\n",
    "print('Done!')"
   ],
   "metadata": {
    "collapsed": false,
    "pycharm": {
     "name": "#%%\n"
    }
   }
  },
  {
   "cell_type": "code",
   "execution_count": null,
   "outputs": [],
   "source": [
    "x = 0\n",
    "if x > 2:\n",
    "    print('x = {}, which is greater than 2'.format(x))\n",
    "else:\n",
    "    print('x = {}, which is less than or equal to 2'.format(x))"
   ],
   "metadata": {
    "collapsed": false,
    "pycharm": {
     "name": "#%%\n"
    }
   }
  },
  {
   "cell_type": "code",
   "execution_count": null,
   "outputs": [],
   "source": [
    "x = 2\n",
    "if x > 2:\n",
    "    print(\"x = {}, which is greater than 2\".format(x))\n",
    "elif x == 2:\n",
    "    print(\"x = {}, which equals 2!\".format(x))\n",
    "else:\n",
    "    print(\"x = {}, which is less than 2\".format(x))"
   ],
   "metadata": {
    "collapsed": false,
    "pycharm": {
     "name": "#%%\n"
    }
   }
  },
  {
   "cell_type": "code",
   "execution_count": 1,
   "outputs": [
    {
     "name": "stdout",
     "output_type": "stream",
     "text": [
      "38 was NOT found in teh values\n",
      "12 was found in the values\n"
     ]
    }
   ],
   "source": [
    "def check_present(value, values):\n",
    "    \"\"\"method to asertain value or values from input\"\"\"\n",
    "    if value in values:\n",
    "        print(\"{} was found in the values\".format(value))\n",
    "    else:\n",
    "        print(\"{} was NOT found in teh values\".format(value))\n",
    "\n",
    "a = set([4, 2, 5, 1, 12, 33])\n",
    "check_present(38, a)\n",
    "check_present(12, a)\n",
    "\n",
    "\n"
   ],
   "metadata": {
    "collapsed": false,
    "pycharm": {
     "name": "#%%\n"
    }
   }
  }
 ],
 "metadata": {
  "kernelspec": {
   "display_name": "Python 3",
   "language": "python",
   "name": "python3"
  },
  "language_info": {
   "codemirror_mode": {
    "name": "ipython",
    "version": 2
   },
   "file_extension": ".py",
   "mimetype": "text/x-python",
   "name": "python",
   "nbconvert_exporter": "python",
   "pygments_lexer": "ipython2",
   "version": "2.7.6"
  }
 },
 "nbformat": 4,
 "nbformat_minor": 0
}