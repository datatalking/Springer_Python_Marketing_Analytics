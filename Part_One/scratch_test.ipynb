{
 "cells": [
  {
   "cell_type": "code",
   "execution_count": 6,
   "outputs": [
    {
     "name": "stdout",
     "output_type": "stream",
     "text": [
      "Requirement already satisfied: networkx in /Users/wadewilson/PycharmProjects/Springer_Python_Marketing_Analytics/venv/lib/python3.8/site-packages (2.6.3)\r\n",
      "Requirement already satisfied: pip in /Users/wadewilson/PycharmProjects/Springer_Python_Marketing_Analytics/venv/lib/python3.8/site-packages (22.0.4)\r\n",
      "\u001B[31mERROR: Could not find a version that satisfies the requirement matplotlib.pyplot (from versions: none)\u001B[0m\u001B[31m\r\n",
      "\u001B[0m\u001B[31mERROR: No matching distribution found for matplotlib.pyplot\u001B[0m\u001B[31m\r\n",
      "\u001B[0mRequirement already satisfied: ipympl in /Users/wadewilson/PycharmProjects/Springer_Python_Marketing_Analytics/venv/lib/python3.8/site-packages (0.8.8)\r\n",
      "Requirement already satisfied: numpy in /Users/wadewilson/PycharmProjects/Springer_Python_Marketing_Analytics/venv/lib/python3.8/site-packages (from ipympl) (1.21.4)\r\n",
      "Requirement already satisfied: ipython<9 in /Users/wadewilson/PycharmProjects/Springer_Python_Marketing_Analytics/venv/lib/python3.8/site-packages (from ipympl) (7.29.0)\r\n",
      "Requirement already satisfied: traitlets<6 in /Users/wadewilson/PycharmProjects/Springer_Python_Marketing_Analytics/venv/lib/python3.8/site-packages (from ipympl) (5.1.1)\r\n",
      "Requirement already satisfied: ipython-genutils in /Users/wadewilson/PycharmProjects/Springer_Python_Marketing_Analytics/venv/lib/python3.8/site-packages (from ipympl) (0.2.0)\r\n",
      "Requirement already satisfied: pillow in /Users/wadewilson/PycharmProjects/Springer_Python_Marketing_Analytics/venv/lib/python3.8/site-packages (from ipympl) (8.4.0)\r\n",
      "Requirement already satisfied: ipywidgets<8,>=7.6.0 in /Users/wadewilson/PycharmProjects/Springer_Python_Marketing_Analytics/venv/lib/python3.8/site-packages (from ipympl) (7.6.5)\r\n",
      "Requirement already satisfied: matplotlib<4,>=2.0.0 in /Users/wadewilson/PycharmProjects/Springer_Python_Marketing_Analytics/venv/lib/python3.8/site-packages (from ipympl) (3.4.3)\r\n",
      "Requirement already satisfied: prompt-toolkit!=3.0.0,!=3.0.1,<3.1.0,>=2.0.0 in /Users/wadewilson/PycharmProjects/Springer_Python_Marketing_Analytics/venv/lib/python3.8/site-packages (from ipython<9->ipympl) (3.0.22)\r\n",
      "Requirement already satisfied: appnope in /Users/wadewilson/PycharmProjects/Springer_Python_Marketing_Analytics/venv/lib/python3.8/site-packages (from ipython<9->ipympl) (0.1.2)\r\n",
      "Requirement already satisfied: pexpect>4.3 in /Users/wadewilson/PycharmProjects/Springer_Python_Marketing_Analytics/venv/lib/python3.8/site-packages (from ipython<9->ipympl) (4.8.0)\r\n",
      "Requirement already satisfied: backcall in /Users/wadewilson/PycharmProjects/Springer_Python_Marketing_Analytics/venv/lib/python3.8/site-packages (from ipython<9->ipympl) (0.2.0)\r\n",
      "Requirement already satisfied: setuptools>=18.5 in /Users/wadewilson/PycharmProjects/Springer_Python_Marketing_Analytics/venv/lib/python3.8/site-packages (from ipython<9->ipympl) (57.0.0)\r\n",
      "Requirement already satisfied: matplotlib-inline in /Users/wadewilson/PycharmProjects/Springer_Python_Marketing_Analytics/venv/lib/python3.8/site-packages (from ipython<9->ipympl) (0.1.3)\r\n",
      "Requirement already satisfied: decorator in /Users/wadewilson/PycharmProjects/Springer_Python_Marketing_Analytics/venv/lib/python3.8/site-packages (from ipython<9->ipympl) (5.1.0)\r\n",
      "Requirement already satisfied: pygments in /Users/wadewilson/PycharmProjects/Springer_Python_Marketing_Analytics/venv/lib/python3.8/site-packages (from ipython<9->ipympl) (2.10.0)\r\n",
      "Requirement already satisfied: pickleshare in /Users/wadewilson/PycharmProjects/Springer_Python_Marketing_Analytics/venv/lib/python3.8/site-packages (from ipython<9->ipympl) (0.7.5)\r\n",
      "Requirement already satisfied: jedi>=0.16 in /Users/wadewilson/PycharmProjects/Springer_Python_Marketing_Analytics/venv/lib/python3.8/site-packages (from ipython<9->ipympl) (0.18.0)\r\n",
      "Requirement already satisfied: widgetsnbextension~=3.5.0 in /Users/wadewilson/PycharmProjects/Springer_Python_Marketing_Analytics/venv/lib/python3.8/site-packages (from ipywidgets<8,>=7.6.0->ipympl) (3.5.2)\r\n",
      "Requirement already satisfied: nbformat>=4.2.0 in /Users/wadewilson/PycharmProjects/Springer_Python_Marketing_Analytics/venv/lib/python3.8/site-packages (from ipywidgets<8,>=7.6.0->ipympl) (5.1.3)\r\n",
      "Requirement already satisfied: jupyterlab-widgets>=1.0.0 in /Users/wadewilson/PycharmProjects/Springer_Python_Marketing_Analytics/venv/lib/python3.8/site-packages (from ipywidgets<8,>=7.6.0->ipympl) (1.0.2)\r\n",
      "Requirement already satisfied: ipykernel>=4.5.1 in /Users/wadewilson/PycharmProjects/Springer_Python_Marketing_Analytics/venv/lib/python3.8/site-packages (from ipywidgets<8,>=7.6.0->ipympl) (6.5.0)\r\n",
      "Requirement already satisfied: cycler>=0.10 in /Users/wadewilson/PycharmProjects/Springer_Python_Marketing_Analytics/venv/lib/python3.8/site-packages (from matplotlib<4,>=2.0.0->ipympl) (0.11.0)\r\n",
      "Requirement already satisfied: kiwisolver>=1.0.1 in /Users/wadewilson/PycharmProjects/Springer_Python_Marketing_Analytics/venv/lib/python3.8/site-packages (from matplotlib<4,>=2.0.0->ipympl) (1.3.2)\r\n",
      "Requirement already satisfied: pyparsing>=2.2.1 in /Users/wadewilson/PycharmProjects/Springer_Python_Marketing_Analytics/venv/lib/python3.8/site-packages (from matplotlib<4,>=2.0.0->ipympl) (2.4.7)\r\n",
      "Requirement already satisfied: python-dateutil>=2.7 in /Users/wadewilson/PycharmProjects/Springer_Python_Marketing_Analytics/venv/lib/python3.8/site-packages (from matplotlib<4,>=2.0.0->ipympl) (2.8.2)\r\n",
      "Requirement already satisfied: tornado<7.0,>=4.2 in /Users/wadewilson/PycharmProjects/Springer_Python_Marketing_Analytics/venv/lib/python3.8/site-packages (from ipykernel>=4.5.1->ipywidgets<8,>=7.6.0->ipympl) (6.1)\r\n",
      "Requirement already satisfied: jupyter-client<8.0 in /Users/wadewilson/PycharmProjects/Springer_Python_Marketing_Analytics/venv/lib/python3.8/site-packages (from ipykernel>=4.5.1->ipywidgets<8,>=7.6.0->ipympl) (7.0.6)\r\n",
      "Requirement already satisfied: debugpy<2.0,>=1.0.0 in /Users/wadewilson/PycharmProjects/Springer_Python_Marketing_Analytics/venv/lib/python3.8/site-packages (from ipykernel>=4.5.1->ipywidgets<8,>=7.6.0->ipympl) (1.5.1)\r\n",
      "Requirement already satisfied: parso<0.9.0,>=0.8.0 in /Users/wadewilson/PycharmProjects/Springer_Python_Marketing_Analytics/venv/lib/python3.8/site-packages (from jedi>=0.16->ipython<9->ipympl) (0.8.2)\r\n",
      "Requirement already satisfied: jsonschema!=2.5.0,>=2.4 in /Users/wadewilson/PycharmProjects/Springer_Python_Marketing_Analytics/venv/lib/python3.8/site-packages (from nbformat>=4.2.0->ipywidgets<8,>=7.6.0->ipympl) (4.2.1)\r\n",
      "Requirement already satisfied: jupyter-core in /Users/wadewilson/PycharmProjects/Springer_Python_Marketing_Analytics/venv/lib/python3.8/site-packages (from nbformat>=4.2.0->ipywidgets<8,>=7.6.0->ipympl) (4.9.1)\r\n",
      "Requirement already satisfied: ptyprocess>=0.5 in /Users/wadewilson/PycharmProjects/Springer_Python_Marketing_Analytics/venv/lib/python3.8/site-packages (from pexpect>4.3->ipython<9->ipympl) (0.7.0)\r\n",
      "Requirement already satisfied: wcwidth in /Users/wadewilson/PycharmProjects/Springer_Python_Marketing_Analytics/venv/lib/python3.8/site-packages (from prompt-toolkit!=3.0.0,!=3.0.1,<3.1.0,>=2.0.0->ipython<9->ipympl) (0.2.5)\r\n",
      "Requirement already satisfied: six>=1.5 in /Users/wadewilson/PycharmProjects/Springer_Python_Marketing_Analytics/venv/lib/python3.8/site-packages (from python-dateutil>=2.7->matplotlib<4,>=2.0.0->ipympl) (1.16.0)\r\n",
      "Requirement already satisfied: notebook>=4.4.1 in /Users/wadewilson/PycharmProjects/Springer_Python_Marketing_Analytics/venv/lib/python3.8/site-packages (from widgetsnbextension~=3.5.0->ipywidgets<8,>=7.6.0->ipympl) (6.4.5)\r\n",
      "Requirement already satisfied: attrs>=17.4.0 in /Users/wadewilson/PycharmProjects/Springer_Python_Marketing_Analytics/venv/lib/python3.8/site-packages (from jsonschema!=2.5.0,>=2.4->nbformat>=4.2.0->ipywidgets<8,>=7.6.0->ipympl) (21.2.0)\r\n",
      "Requirement already satisfied: importlib-resources>=1.4.0 in /Users/wadewilson/PycharmProjects/Springer_Python_Marketing_Analytics/venv/lib/python3.8/site-packages (from jsonschema!=2.5.0,>=2.4->nbformat>=4.2.0->ipywidgets<8,>=7.6.0->ipympl) (5.4.0)\r\n",
      "Requirement already satisfied: pyrsistent!=0.17.0,!=0.17.1,!=0.17.2,>=0.14.0 in /Users/wadewilson/PycharmProjects/Springer_Python_Marketing_Analytics/venv/lib/python3.8/site-packages (from jsonschema!=2.5.0,>=2.4->nbformat>=4.2.0->ipywidgets<8,>=7.6.0->ipympl) (0.18.0)\r\n",
      "Requirement already satisfied: pyzmq>=13 in /Users/wadewilson/PycharmProjects/Springer_Python_Marketing_Analytics/venv/lib/python3.8/site-packages (from jupyter-client<8.0->ipykernel>=4.5.1->ipywidgets<8,>=7.6.0->ipympl) (22.3.0)\r\n",
      "Requirement already satisfied: entrypoints in /Users/wadewilson/PycharmProjects/Springer_Python_Marketing_Analytics/venv/lib/python3.8/site-packages (from jupyter-client<8.0->ipykernel>=4.5.1->ipywidgets<8,>=7.6.0->ipympl) (0.3)\r\n",
      "Requirement already satisfied: nest-asyncio>=1.5 in /Users/wadewilson/PycharmProjects/Springer_Python_Marketing_Analytics/venv/lib/python3.8/site-packages (from jupyter-client<8.0->ipykernel>=4.5.1->ipywidgets<8,>=7.6.0->ipympl) (1.5.1)\r\n",
      "Requirement already satisfied: prometheus-client in /Users/wadewilson/PycharmProjects/Springer_Python_Marketing_Analytics/venv/lib/python3.8/site-packages (from notebook>=4.4.1->widgetsnbextension~=3.5.0->ipywidgets<8,>=7.6.0->ipympl) (0.12.0)\r\n",
      "Requirement already satisfied: argon2-cffi in /Users/wadewilson/PycharmProjects/Springer_Python_Marketing_Analytics/venv/lib/python3.8/site-packages (from notebook>=4.4.1->widgetsnbextension~=3.5.0->ipywidgets<8,>=7.6.0->ipympl) (21.1.0)\r\n",
      "Requirement already satisfied: nbconvert in /Users/wadewilson/PycharmProjects/Springer_Python_Marketing_Analytics/venv/lib/python3.8/site-packages (from notebook>=4.4.1->widgetsnbextension~=3.5.0->ipywidgets<8,>=7.6.0->ipympl) (6.2.0)\r\n",
      "Requirement already satisfied: jinja2 in /Users/wadewilson/PycharmProjects/Springer_Python_Marketing_Analytics/venv/lib/python3.8/site-packages (from notebook>=4.4.1->widgetsnbextension~=3.5.0->ipywidgets<8,>=7.6.0->ipympl) (3.0.2)\r\n",
      "Requirement already satisfied: terminado>=0.8.3 in /Users/wadewilson/PycharmProjects/Springer_Python_Marketing_Analytics/venv/lib/python3.8/site-packages (from notebook>=4.4.1->widgetsnbextension~=3.5.0->ipywidgets<8,>=7.6.0->ipympl) (0.12.1)\r\n",
      "Requirement already satisfied: Send2Trash>=1.5.0 in /Users/wadewilson/PycharmProjects/Springer_Python_Marketing_Analytics/venv/lib/python3.8/site-packages (from notebook>=4.4.1->widgetsnbextension~=3.5.0->ipywidgets<8,>=7.6.0->ipympl) (1.8.0)\r\n",
      "Requirement already satisfied: zipp>=3.1.0 in /Users/wadewilson/PycharmProjects/Springer_Python_Marketing_Analytics/venv/lib/python3.8/site-packages (from importlib-resources>=1.4.0->jsonschema!=2.5.0,>=2.4->nbformat>=4.2.0->ipywidgets<8,>=7.6.0->ipympl) (3.6.0)\r\n",
      "Requirement already satisfied: cffi>=1.0.0 in /Users/wadewilson/PycharmProjects/Springer_Python_Marketing_Analytics/venv/lib/python3.8/site-packages (from argon2-cffi->notebook>=4.4.1->widgetsnbextension~=3.5.0->ipywidgets<8,>=7.6.0->ipympl) (1.15.0)\r\n",
      "Requirement already satisfied: MarkupSafe>=2.0 in /Users/wadewilson/PycharmProjects/Springer_Python_Marketing_Analytics/venv/lib/python3.8/site-packages (from jinja2->notebook>=4.4.1->widgetsnbextension~=3.5.0->ipywidgets<8,>=7.6.0->ipympl) (2.0.1)\r\n",
      "Requirement already satisfied: mistune<2,>=0.8.1 in /Users/wadewilson/PycharmProjects/Springer_Python_Marketing_Analytics/venv/lib/python3.8/site-packages (from nbconvert->notebook>=4.4.1->widgetsnbextension~=3.5.0->ipywidgets<8,>=7.6.0->ipympl) (0.8.4)\r\n",
      "Requirement already satisfied: bleach in /Users/wadewilson/PycharmProjects/Springer_Python_Marketing_Analytics/venv/lib/python3.8/site-packages (from nbconvert->notebook>=4.4.1->widgetsnbextension~=3.5.0->ipywidgets<8,>=7.6.0->ipympl) (4.1.0)\r\n",
      "Requirement already satisfied: jupyterlab-pygments in /Users/wadewilson/PycharmProjects/Springer_Python_Marketing_Analytics/venv/lib/python3.8/site-packages (from nbconvert->notebook>=4.4.1->widgetsnbextension~=3.5.0->ipywidgets<8,>=7.6.0->ipympl) (0.1.2)\r\n",
      "Requirement already satisfied: defusedxml in /Users/wadewilson/PycharmProjects/Springer_Python_Marketing_Analytics/venv/lib/python3.8/site-packages (from nbconvert->notebook>=4.4.1->widgetsnbextension~=3.5.0->ipywidgets<8,>=7.6.0->ipympl) (0.7.1)\r\n",
      "Requirement already satisfied: pandocfilters>=1.4.1 in /Users/wadewilson/PycharmProjects/Springer_Python_Marketing_Analytics/venv/lib/python3.8/site-packages (from nbconvert->notebook>=4.4.1->widgetsnbextension~=3.5.0->ipywidgets<8,>=7.6.0->ipympl) (1.5.0)\r\n",
      "Requirement already satisfied: nbclient<0.6.0,>=0.5.0 in /Users/wadewilson/PycharmProjects/Springer_Python_Marketing_Analytics/venv/lib/python3.8/site-packages (from nbconvert->notebook>=4.4.1->widgetsnbextension~=3.5.0->ipywidgets<8,>=7.6.0->ipympl) (0.5.4)\r\n",
      "Requirement already satisfied: testpath in /Users/wadewilson/PycharmProjects/Springer_Python_Marketing_Analytics/venv/lib/python3.8/site-packages (from nbconvert->notebook>=4.4.1->widgetsnbextension~=3.5.0->ipywidgets<8,>=7.6.0->ipympl) (0.5.0)\r\n",
      "Requirement already satisfied: pycparser in /Users/wadewilson/PycharmProjects/Springer_Python_Marketing_Analytics/venv/lib/python3.8/site-packages (from cffi>=1.0.0->argon2-cffi->notebook>=4.4.1->widgetsnbextension~=3.5.0->ipywidgets<8,>=7.6.0->ipympl) (2.21)\r\n",
      "Requirement already satisfied: packaging in /Users/wadewilson/PycharmProjects/Springer_Python_Marketing_Analytics/venv/lib/python3.8/site-packages (from bleach->nbconvert->notebook>=4.4.1->widgetsnbextension~=3.5.0->ipywidgets<8,>=7.6.0->ipympl) (21.2)\r\n",
      "Requirement already satisfied: webencodings in /Users/wadewilson/PycharmProjects/Springer_Python_Marketing_Analytics/venv/lib/python3.8/site-packages (from bleach->nbconvert->notebook>=4.4.1->widgetsnbextension~=3.5.0->ipywidgets<8,>=7.6.0->ipympl) (0.5.1)\r\n"
     ]
    }
   ],
   "source": [
    "!pip3 install networkx\n",
    "!pip install --upgrade pip\n",
    "!pip install matplotlib.pyplot\n",
    "!pip install ipympl\n",
    "%matplotlib ipympl"
   ],
   "metadata": {
    "collapsed": false,
    "pycharm": {
     "name": "#%%\n"
    }
   }
  },
  {
   "cell_type": "code",
   "execution_count": 6,
   "outputs": [],
   "source": [],
   "metadata": {
    "collapsed": false,
    "pycharm": {
     "name": "#%%\n"
    }
   }
  },
  {
   "cell_type": "code",
   "execution_count": 7,
   "outputs": [
    {
     "name": "stdout",
     "output_type": "stream",
     "text": [
      "Nodes of graph: \n",
      "['a']\n",
      "Edges of graph: \n",
      "[]\n"
     ]
    },
    {
     "data": {
      "text/plain": "Canvas(toolbar=Toolbar(toolitems=[('Home', 'Reset original view', 'home', 'home'), ('Back', 'Back to previous …",
      "image/png": "[encoded data removed]",
      "text/html": "\n            <div style=\"display: inline-block;\">\n                <div class=\"jupyter-widgets widget-label\" style=\"text-align: center;\">\n                    Figure\n                </div>\n                <img src='data:image/png;base64,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' width=640.0/>\n            </div>\n        ",
      "application/vnd.jupyter.widget-view+json": {
       "version_major": 2,
       "version_minor": 0,
       "model_id": "72c2ad6bc76e4bd29a81279cf4909419"
      }
     },
     "metadata": {},
     "output_type": "display_data"
    }
   ],
   "source": [
    "import matplotlib.pyplot as plt\n",
    "import networkx as nx\n",
    "\n",
    "G=nx.Graph()\n",
    "\n",
    "# adding just one node:\n",
    "G.add_node(\"a\")\n",
    "\n",
    "# a list of nodes:\n",
    "G.add_node(\"a\")\n",
    "\n",
    "print(\"Nodes of graph: \")\n",
    "print(G.nodes())\n",
    "\n",
    "print(\"Edges of graph: \")\n",
    "print(G.edges())\n",
    "\n",
    "# adding a list of edges:\n",
    "G.add_edges_from([(\"a\", \"c\"),(\"c\", \"d\"), (\"a\", 1), (1,\"d\"), (\"a\", 2)])\n",
    "\n",
    "nx.draw(G)\n",
    "plt.savefig(\"simple_path.png\") # save as png\n",
    "\n",
    "# TODO find a way to add labels to a graph\n",
    "# TODO find a way to graph data more.\n",
    "plt.show()\n"
   ],
   "metadata": {
    "collapsed": false,
    "pycharm": {
     "name": "#%%\n"
    }
   }
  },
  {
   "cell_type": "code",
   "execution_count": 15,
   "outputs": [
    {
     "name": "stdout",
     "output_type": "stream",
     "text": [
      "Requirement already satisfied: dgl in /Users/wadewilson/PycharmProjects/Springer_Python_Marketing_Analytics/venv/lib/python3.8/site-packages (0.6.1)\r\n",
      "Requirement already satisfied: networkx>=2.1 in /Users/wadewilson/PycharmProjects/Springer_Python_Marketing_Analytics/venv/lib/python3.8/site-packages (from dgl) (2.6.3)\r\n",
      "Requirement already satisfied: requests>=2.19.0 in /Users/wadewilson/PycharmProjects/Springer_Python_Marketing_Analytics/venv/lib/python3.8/site-packages (from dgl) (2.27.1)\r\n",
      "Requirement already satisfied: numpy>=1.14.0 in /Users/wadewilson/PycharmProjects/Springer_Python_Marketing_Analytics/venv/lib/python3.8/site-packages (from dgl) (1.21.4)\r\n",
      "Requirement already satisfied: scipy>=1.1.0 in /Users/wadewilson/PycharmProjects/Springer_Python_Marketing_Analytics/venv/lib/python3.8/site-packages (from dgl) (1.7.2)\r\n",
      "Requirement already satisfied: urllib3<1.27,>=1.21.1 in /Users/wadewilson/PycharmProjects/Springer_Python_Marketing_Analytics/venv/lib/python3.8/site-packages (from requests>=2.19.0->dgl) (1.26.9)\r\n",
      "Requirement already satisfied: idna<4,>=2.5 in /Users/wadewilson/PycharmProjects/Springer_Python_Marketing_Analytics/venv/lib/python3.8/site-packages (from requests>=2.19.0->dgl) (3.3)\r\n",
      "Requirement already satisfied: certifi>=2017.4.17 in /Users/wadewilson/PycharmProjects/Springer_Python_Marketing_Analytics/venv/lib/python3.8/site-packages (from requests>=2.19.0->dgl) (2021.10.8)\r\n",
      "Requirement already satisfied: charset-normalizer~=2.0.0 in /Users/wadewilson/PycharmProjects/Springer_Python_Marketing_Analytics/venv/lib/python3.8/site-packages (from requests>=2.19.0->dgl) (2.0.12)\r\n",
      "Requirement already satisfied: numpy in /Users/wadewilson/PycharmProjects/Springer_Python_Marketing_Analytics/venv/lib/python3.8/site-packages (1.21.4)\r\n",
      "Requirement already satisfied: torch in /Users/wadewilson/PycharmProjects/Springer_Python_Marketing_Analytics/venv/lib/python3.8/site-packages (1.11.0)\r\n",
      "Requirement already satisfied: typing-extensions in /Users/wadewilson/PycharmProjects/Springer_Python_Marketing_Analytics/venv/lib/python3.8/site-packages (from torch) (4.1.1)\r\n",
      "Requirement already satisfied: matplotlib in /Users/wadewilson/PycharmProjects/Springer_Python_Marketing_Analytics/venv/lib/python3.8/site-packages (3.4.3)\r\n",
      "Requirement already satisfied: pyparsing>=2.2.1 in /Users/wadewilson/PycharmProjects/Springer_Python_Marketing_Analytics/venv/lib/python3.8/site-packages (from matplotlib) (2.4.7)\r\n",
      "Requirement already satisfied: kiwisolver>=1.0.1 in /Users/wadewilson/PycharmProjects/Springer_Python_Marketing_Analytics/venv/lib/python3.8/site-packages (from matplotlib) (1.3.2)\r\n",
      "Requirement already satisfied: cycler>=0.10 in /Users/wadewilson/PycharmProjects/Springer_Python_Marketing_Analytics/venv/lib/python3.8/site-packages (from matplotlib) (0.11.0)\r\n",
      "Requirement already satisfied: python-dateutil>=2.7 in /Users/wadewilson/PycharmProjects/Springer_Python_Marketing_Analytics/venv/lib/python3.8/site-packages (from matplotlib) (2.8.2)\r\n",
      "Requirement already satisfied: pillow>=6.2.0 in /Users/wadewilson/PycharmProjects/Springer_Python_Marketing_Analytics/venv/lib/python3.8/site-packages (from matplotlib) (8.4.0)\r\n",
      "Requirement already satisfied: numpy>=1.16 in /Users/wadewilson/PycharmProjects/Springer_Python_Marketing_Analytics/venv/lib/python3.8/site-packages (from matplotlib) (1.21.4)\r\n",
      "Requirement already satisfied: six>=1.5 in /Users/wadewilson/PycharmProjects/Springer_Python_Marketing_Analytics/venv/lib/python3.8/site-packages (from python-dateutil>=2.7->matplotlib) (1.16.0)\r\n",
      "Requirement already satisfied: networkx in /Users/wadewilson/PycharmProjects/Springer_Python_Marketing_Analytics/venv/lib/python3.8/site-packages (2.6.3)\r\n",
      "Requirement already satisfied: pathlib in /Users/wadewilson/PycharmProjects/Springer_Python_Marketing_Analytics/venv/lib/python3.8/site-packages (1.0.1)\r\n"
     ]
    }
   ],
   "source": [
    "!pip3 install dgl\n",
    "!pip3 install numpy\n",
    "!pip3 install torch\n",
    "!pip3 install matplotlib\n",
    "!pip3 install networkx\n",
    "!pip3 install pathlib\n"
   ],
   "metadata": {
    "collapsed": false,
    "pycharm": {
     "name": "#%%\n"
    }
   }
  },
  {
   "cell_type": "code",
   "execution_count": 16,
   "outputs": [
    {
     "name": "stdout",
     "output_type": "stream",
     "text": [
      "Collecting graphviz\r\n",
      "  Downloading graphviz-0.19.1-py3-none-any.whl (46 kB)\r\n",
      "\u001B[2K     \u001B[90m━━━━━━━━━━━━━━━━━━━━━━━━━━━━━━━━━━━━━━━━\u001B[0m \u001B[32m46.3/46.3 KB\u001B[0m \u001B[31m1.3 MB/s\u001B[0m eta \u001B[36m0:00:00\u001B[0m\r\n",
      "\u001B[?25hInstalling collected packages: graphviz\r\n",
      "Successfully installed graphviz-0.19.1\r\n",
      "\u001B[33mWARNING: Disabling all use of wheels due to the use of --build-option / --global-option / --install-option.\u001B[0m\u001B[33m\r\n",
      "\u001B[0mCollecting pygraphviz\r\n",
      "  Using cached pygraphviz-1.9.zip (119 kB)\r\n",
      "  Preparing metadata (setup.py) ... \u001B[?25ldone\r\n",
      "\u001B[?25hSkipping wheel build for pygraphviz, due to binaries being disabled for it.\r\n",
      "Installing collected packages: pygraphviz\r\n",
      "  Running setup.py install for pygraphviz ... \u001B[?25lerror\r\n",
      "  \u001B[1;31merror\u001B[0m: \u001B[1msubprocess-exited-with-error\u001B[0m\r\n",
      "  \r\n",
      "  \u001B[31m×\u001B[0m \u001B[32mRunning setup.py install for pygraphviz\u001B[0m did not run successfully.\r\n",
      "  \u001B[31m│\u001B[0m exit code: \u001B[1;36m1\u001B[0m\r\n",
      "  \u001B[31m╰─>\u001B[0m \u001B[31m[6 lines of output]\u001B[0m\r\n",
      "  \u001B[31m   \u001B[0m usage: setup.py [global_opts] cmd1 [cmd1_opts] [cmd2 [cmd2_opts] ...]\r\n",
      "  \u001B[31m   \u001B[0m    or: setup.py --help [cmd1 cmd2 ...]\r\n",
      "  \u001B[31m   \u001B[0m    or: setup.py --help-commands\r\n",
      "  \u001B[31m   \u001B[0m    or: setup.py cmd --help\r\n",
      "  \u001B[31m   \u001B[0m \r\n",
      "  \u001B[31m   \u001B[0m error: option --include-path not recognized\r\n",
      "  \u001B[31m   \u001B[0m \u001B[31m[end of output]\u001B[0m\r\n",
      "  \r\n",
      "  \u001B[1;35mnote\u001B[0m: This error originates from a subprocess, and is likely not a problem with pip.\r\n",
      "\u001B[1;31merror\u001B[0m: \u001B[1mlegacy-install-failure\u001B[0m\r\n",
      "\r\n",
      "\u001B[31m×\u001B[0m Encountered error while trying to install package.\r\n",
      "\u001B[31m╰─>\u001B[0m pygraphviz\r\n",
      "\r\n",
      "\u001B[1;35mnote\u001B[0m: This is an issue with the package mentioned above, not pip.\r\n",
      "\u001B[1;36mhint\u001B[0m: See above for output from the failure.\r\n",
      "\u001B[?25h"
     ]
    }
   ],
   "source": [
    "# TODO most of below doesn't work, old depricated code, but networkx works for basic plots.\n",
    "! conda install -c conda-forge pygraphviz\n",
    "\n"
   ],
   "metadata": {
    "collapsed": false,
    "pycharm": {
     "name": "#%%\n"
    }
   }
  },
  {
   "cell_type": "code",
   "execution_count": 17,
   "outputs": [
    {
     "ename": "ModuleNotFoundError",
     "evalue": "No module named 'pygraphviz'",
     "output_type": "error",
     "traceback": [
      "\u001B[0;31m---------------------------------------------------------------------------\u001B[0m",
      "\u001B[0;31mModuleNotFoundError\u001B[0m                       Traceback (most recent call last)",
      "\u001B[0;32m/var/folders/v0/7gtj3bhx74z6w7kx78fhqlmm0000gn/T/ipykernel_10263/1523709099.py\u001B[0m in \u001B[0;36m<module>\u001B[0;34m\u001B[0m\n\u001B[1;32m      2\u001B[0m \u001B[0;32mimport\u001B[0m \u001B[0mnumpy\u001B[0m \u001B[0;32mas\u001B[0m \u001B[0mnp\u001B[0m\u001B[0;34m\u001B[0m\u001B[0;34m\u001B[0m\u001B[0m\n\u001B[1;32m      3\u001B[0m \u001B[0;32mimport\u001B[0m \u001B[0mtorch\u001B[0m\u001B[0;34m\u001B[0m\u001B[0;34m\u001B[0m\u001B[0m\n\u001B[0;32m----> 4\u001B[0;31m \u001B[0;32mimport\u001B[0m \u001B[0mpygraphviz\u001B[0m\u001B[0;34m\u001B[0m\u001B[0;34m\u001B[0m\u001B[0m\n\u001B[0m\u001B[1;32m      5\u001B[0m \u001B[0;32mimport\u001B[0m \u001B[0mnetworkx\u001B[0m \u001B[0;32mas\u001B[0m \u001B[0mnx\u001B[0m\u001B[0;34m\u001B[0m\u001B[0;34m\u001B[0m\u001B[0m\n\u001B[1;32m      6\u001B[0m \u001B[0;34m\u001B[0m\u001B[0m\n",
      "\u001B[0;31mModuleNotFoundError\u001B[0m: No module named 'pygraphviz'"
     ]
    }
   ],
   "source": [
    "import dgl\n",
    "import numpy as np\n",
    "import torch\n",
    "import pygraphviz\n",
    "import networkx as nx\n",
    "\n",
    "import matplotlib.pyplot as plt\n",
    "import matplotlib.image as mpimg\n",
    "\n",
    "from pathlib import Path\n",
    "# TODO copy imports to requirements.txt\n",
    "g = dgl.graph(([0, 0, 0, 0, 0], [1, 2, 3, 4, 5]), num_nodes=6)\n",
    "print(f'{g=}')\n",
    "print(f'{g.edges()=}')\n",
    "\n",
    "# Since the actual graph is undirected, we convert it for visualization purpose.\n",
    "g = g.to_networkx().to_undirected()\n",
    "print(f'{g=}')\n",
    "\n",
    "# relabel\n",
    "int2label = {0: \"app\", 1: \"cons\", 2: \"with\", 3: \"app3\", 4: \"app4\", 5: \"app5\"}\n",
    "g = nx.relabel_nodes(g, int2label)\n",
    "\n",
    "# https://networkx.org/documentation/stable/reference/drawing.html#module-networkx.drawing.layout\n",
    "g = nx.nx_agraph.to_agraph(g)\n",
    "print(f'{g=}')\n",
    "print(f'{g.string()=}')\n",
    "\n",
    "# draw\n",
    "g.layout()\n",
    "g.draw(\"file.png\")\n",
    "\n",
    "# https://stackoverflow.com/questions/20597088/display-a-png-image-from-python-on-mint-15-linux\n",
    "img = mpimg.imread('file.png')\n",
    "plt.imshow(img)\n",
    "plt.show()\n",
    "\n",
    "# remove file https://stackoverflow.com/questions/6996603/how-to-delete-a-file-or-folder\n",
    "Path('./file.png').expanduser().unlink()\n",
    "# import os\n",
    "# os.remove('./file.png')"
   ],
   "metadata": {
    "collapsed": false,
    "pycharm": {
     "name": "#%%\n"
    }
   }
  }
 ],
 "metadata": {
  "kernelspec": {
   "display_name": "Python 3 (ipykernel)",
   "language": "python",
   "name": "python3"
  },
  "language_info": {
   "codemirror_mode": {
    "name": "ipython",
    "version": 3
   },
   "file_extension": ".py",
   "mimetype": "text/x-python",
   "name": "python",
   "nbconvert_exporter": "python",
   "pygments_lexer": "ipython3",
   "version": "3.8.2"
  }
 },
 "nbformat": 4,
 "nbformat_minor": 1
}